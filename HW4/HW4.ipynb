{
 "cells": [
  {
   "cell_type": "markdown",
   "metadata": {},
   "source": [
    "## FE - 680 Assignment 4\n",
    "\n",
    "### Instructor: Dragos Bozdog (PhD)\n",
    "\n",
    "### Completed By: Riley Heiman"
   ]
  },
  {
   "cell_type": "code",
   "execution_count": 108,
   "metadata": {},
   "outputs": [],
   "source": [
    "import os \n",
    "import matplotlib \n",
    "import matplotlib.pyplot as plt  \n",
    "import seaborn as sns \n",
    "\n",
    "import pandas as pd  \n",
    "import numpy as np   \n",
    "from scipy.stats import norm  "
   ]
  },
  {
   "cell_type": "code",
   "execution_count": 109,
   "metadata": {},
   "outputs": [
    {
     "name": "stdout",
     "output_type": "stream",
     "text": [
      "d:\\Documents\\Stevens\\FE-680\\HW4\n"
     ]
    }
   ],
   "source": [
    "print(os.getcwd())    "
   ]
  },
  {
   "cell_type": "markdown",
   "metadata": {},
   "source": [
    "---\n",
    "\n",
    "## Problem 1\n",
    "\n",
    "**Verify the CDS spread for the example in Tables (1 to 4) is 100 basis points.** (END OF A SENTANCE)\n",
    "\n",
    "\n",
    "The probability of default each year (conditional on no earlier default) must be $ 1.61 \\%$. \n",
    "\n",
    "\n",
    "Questions\n",
    "- How does the probability of default change when the recovery rate, R, is $20 \\% $ instead of $ 40 \\% $? \n",
    "\n",
    "Verify that your answer is consistent with the implied probability of default being approximately proportional to $\\frac{1}{1-R}$ Where R is the recovery rate.\n",
    "\n",
    "$\\:$\n",
    "\n",
    "\n",
    "**Riley's Thoughts:** This is problem 25.14 in Hull\n",
    "\n",
    "\n",
    "$\\:$\n",
    "\n",
    "Recall:\n",
    "$$ V(t) = e^{-\\lambda(t) t} $$\n",
    "\n",
    "$ \\:$\n",
    "\n",
    "\n",
    "$$ Q(t) = 1 - e^{-\\lambda(t) t}  \\qquad (24.1) $$\n",
    "\n",
    "Where: \n",
    "- $Q(t)$ = probability of default @ time = t\n",
    "- $\\lambda(t) = $ average hazard rate\n",
    "\n",
    "- $V(t)$ = survival probability\n",
    "\n",
    "\n"
   ]
  },
  {
   "cell_type": "code",
   "execution_count": 110,
   "metadata": {},
   "outputs": [],
   "source": [
    "def Q( LAMBDA, t):\n",
    "    # default probability\n",
    "    return(  1 - np.exp( -LAMBDA * t ) )\n",
    "\n",
    "def V( LAMBDA, t):\n",
    "    # survival probability\n",
    "    return( np.exp( -LAMBDA * t ))       \n",
    "\n",
    "def DISCOUNT_FACTOR(r, t):\n",
    "    return( np.exp( -r*t ) )\n",
    "  "
   ]
  },
  {
   "cell_type": "markdown",
   "metadata": {},
   "source": [
    "There are three tables required.\n",
    "\n",
    "\n",
    "- **Table 1** = \"Expected Payments\"\n",
    "\n",
    "- **Table 2** = \"Expected Payoff\"\n",
    "\n",
    "- **Table 3** = \"Accrual Payments\""
   ]
  },
  {
   "cell_type": "code",
   "execution_count": 67,
   "metadata": {},
   "outputs": [
    {
     "data": {
      "text/plain": [
       "0.9607894391523232"
      ]
     },
     "execution_count": 67,
     "metadata": {},
     "output_type": "execute_result"
    }
   ],
   "source": [
    "# np.exp(-.05*1) \n",
    "# np.exp(-.02*2) "
   ]
  },
  {
   "cell_type": "code",
   "execution_count": 100,
   "metadata": {},
   "outputs": [
    {
     "name": "stdout",
     "output_type": "stream",
     "text": [
      "PV of expected payments = 4.07281\n"
     ]
    }
   ],
   "source": [
    "#  Risk-free rate = 5 %\n",
    "\n",
    "r = .05\n",
    "#LAMBDA = .02\n",
    "LAMBDA = .0163   #  This is the actual value \n",
    "\n",
    "R = .2            #  Recovery Rate\n",
    "LAMBDA = .02\n",
    "times = [1 , 2 , 3 , 4 , 5]\n",
    "\n",
    "\n",
    "PV_expected_payments = 0.0\n",
    "\n",
    "for t_i in times:\n",
    "    #print(V( LAMBDA, t_i))\n",
    "    PV_expected_payments = PV_expected_payments + ( V( LAMBDA, t_i) * DISCOUNT_FACTOR(r, t_i) )\n",
    "\n",
    "print( 'PV of expected payments = ' + str( np.round(  PV_expected_payments , decimals= 5) ) )\n",
    "\n",
    "\n"
   ]
  },
  {
   "cell_type": "code",
   "execution_count": 107,
   "metadata": {},
   "outputs": [
    {
     "name": "stdout",
     "output_type": "stream",
     "text": [
      "0.009950166250831893\n",
      "0.009753139758247098\n",
      "0.009560014651609161\n",
      "0.009370713678300446\n",
      "0.00918516111540757\n",
      "PV of expected payoff = 0.03391\n"
     ]
    }
   ],
   "source": [
    "\n",
    "PV_expected_payoff = 0.0\n",
    "\n",
    "times = [.5 , 1.5, 2.5, 3.5, 4.5]\n",
    "#times = [1 , 2 , 3 , 4 , 5]\n",
    "\n",
    "for t_i in times:\n",
    "    # print(PV_expected_payoff)\n",
    "    prob_of_default = V(LAMBDA, t_i-0.5)  - V(LAMBDA, t_i)\n",
    "    #prob_of_default = Q(LAMBDA, t_i)\n",
    "    print(prob_of_default)\n",
    "    PV_expected_payoff = PV_expected_payoff + ( prob_of_default * DISCOUNT_FACTOR(r, t_i) * (1-R))\n",
    "\n",
    "\n",
    "print( 'PV of expected payoff = ' + str( np.round(  PV_expected_payoff , decimals= 5) ) )\n",
    "\n",
    "\n"
   ]
  },
  {
   "cell_type": "code",
   "execution_count": null,
   "metadata": {},
   "outputs": [],
   "source": []
  },
  {
   "cell_type": "markdown",
   "metadata": {},
   "source": [
    "---\n",
    "\n",
    "## Problem 2\n",
    "\n",
    "Suppose that the risk-free zero curve is flat at $ 4 \\% $ per annum with continuous compounding and that defaults can occur at times .25 years, .75 years, 1.25 years, and 1.75 years in a two-year plain vanilla credit default swap with semiannual payments. Suppose that the recovery rate is $ 20 \\%$ and the unconditional probabilities of default (as seen at time zero) are $1\\%$ at times .25 years, and .75 years, and $ 1.5\\% $ at times 1.25 years and 1.75 years. What is the credit default swap spread? What would the credit default spread be if the instrument were a binary credit default swap?\n",
    "\n"
   ]
  },
  {
   "cell_type": "code",
   "execution_count": null,
   "metadata": {},
   "outputs": [],
   "source": []
  },
  {
   "cell_type": "code",
   "execution_count": null,
   "metadata": {},
   "outputs": [],
   "source": []
  },
  {
   "cell_type": "code",
   "execution_count": null,
   "metadata": {},
   "outputs": [],
   "source": []
  },
  {
   "cell_type": "markdown",
   "metadata": {},
   "source": [
    "--- \n",
    "\n",
    "## Problem 3\n",
    "\n",
    "Consider the following CDS for Goldman Sachs:\n",
    "\n",
    "| Tenor     |            CDS                |  Spread (bps)     |\n",
    "| :---:     |           :----:              |     :---:         |\n",
    "| 6 Month   | GS CDS USD SR 6M D14 Curncy   |     30.2          |\n",
    "| 1 Year    | GS CDS USD SR 1Y D14 Curncy   |     38.9          |\n",
    "| 2 Year    | GS CDS USD SR 2Y D14 Curncy   |     47.1          |\n",
    "| 3 Year    | GS CDS USD SR 3Y D14 Curncy   |     58.8          |\n",
    "| 4 Year    | GS CDS USD SR 4Y D14 Curncy   |     72.8          |\n",
    "| 5 Year    | GS CDS USD SR 5Y D14 Curncy   |     83.9          |\n",
    "| 7 Year    | GS CDS USD SR 7Y D14 Curncy   |     109.8         |\n",
    "| 10 Year    | GS CDS USD SR 10Y D14 Curncy |     127.7         |\n",
    "\n",
    "\n",
    "Please estimate the hazard rate curve from the CDS spreads of GS.\n",
    "\n",
    "For the valuation model assume the JPMorgan model (defaults can occur midway during each payment period, but the accrual is made at the end of the periods).\n",
    "\n"
   ]
  },
  {
   "cell_type": "code",
   "execution_count": 14,
   "metadata": {},
   "outputs": [],
   "source": [
    "\n",
    "CDS = pd.DataFrame({\n",
    "'TENOR':[.5 , 1, 2, 3, 4, 5, 7, 10],\n",
    "'INDEX':['GS CDS USD SR 6M D14 Curncy',\n",
    "       'GS CDS USD SR 1Y D14 Curncy',\n",
    "       'GS CDS USD SR 2Y D14 Curncy',\n",
    "       'GS CDS USD SR 3Y D14 Curncy',\n",
    "       'GS CDS USD SR 4Y D14 Curncy',\n",
    "       'GS CDS USD SR 5Y D14 Curncy',\n",
    "       'GS CDS USD SR 7Y D14 Curncy',\n",
    "       'GS CDS USD SR 10Y D14 Curncy'],\n",
    "'SPREAD':[30.2 , 38.9 , 47.1 , 58.8 , 72.8 , 83.9 , 109.8 , 127.7]})\n",
    "\n",
    "\n",
    "RATES= pd.DataFrame({\n",
    "'TENOR':[(1/12) , (2/12),  (3/12) , (6/12) , 1, 2, 3, 4, 5, 6, 7, 8, 9, 10, 12, 15, 20, 25, 30],\n",
    "'YIELD':[.995 , 1.0372 , 1.1696 , 1.4304 , 1.7765 , 1.5635 , 1.7165, 1.839, 1.9365, 2.024 , 2.097 , 2.161 , 2.2205 , 2.267 , 2.352 , 2.431 , 2.504 , 2.529 , 2.533 ] })\n"
   ]
  },
  {
   "cell_type": "code",
   "execution_count": 16,
   "metadata": {},
   "outputs": [
    {
     "data": {
      "text/html": [
       "<div>\n",
       "<style scoped>\n",
       "    .dataframe tbody tr th:only-of-type {\n",
       "        vertical-align: middle;\n",
       "    }\n",
       "\n",
       "    .dataframe tbody tr th {\n",
       "        vertical-align: top;\n",
       "    }\n",
       "\n",
       "    .dataframe thead th {\n",
       "        text-align: right;\n",
       "    }\n",
       "</style>\n",
       "<table border=\"1\" class=\"dataframe\">\n",
       "  <thead>\n",
       "    <tr style=\"text-align: right;\">\n",
       "      <th></th>\n",
       "      <th>TENOR</th>\n",
       "      <th>YIELD</th>\n",
       "    </tr>\n",
       "  </thead>\n",
       "  <tbody>\n",
       "    <tr>\n",
       "      <th>0</th>\n",
       "      <td>0.083333</td>\n",
       "      <td>0.9950</td>\n",
       "    </tr>\n",
       "    <tr>\n",
       "      <th>1</th>\n",
       "      <td>0.166667</td>\n",
       "      <td>1.0372</td>\n",
       "    </tr>\n",
       "    <tr>\n",
       "      <th>2</th>\n",
       "      <td>0.250000</td>\n",
       "      <td>1.1696</td>\n",
       "    </tr>\n",
       "    <tr>\n",
       "      <th>3</th>\n",
       "      <td>0.500000</td>\n",
       "      <td>1.4304</td>\n",
       "    </tr>\n",
       "    <tr>\n",
       "      <th>4</th>\n",
       "      <td>1.000000</td>\n",
       "      <td>1.7765</td>\n",
       "    </tr>\n",
       "    <tr>\n",
       "      <th>5</th>\n",
       "      <td>2.000000</td>\n",
       "      <td>1.5635</td>\n",
       "    </tr>\n",
       "    <tr>\n",
       "      <th>6</th>\n",
       "      <td>3.000000</td>\n",
       "      <td>1.7165</td>\n",
       "    </tr>\n",
       "    <tr>\n",
       "      <th>7</th>\n",
       "      <td>4.000000</td>\n",
       "      <td>1.8390</td>\n",
       "    </tr>\n",
       "    <tr>\n",
       "      <th>8</th>\n",
       "      <td>5.000000</td>\n",
       "      <td>1.9365</td>\n",
       "    </tr>\n",
       "    <tr>\n",
       "      <th>9</th>\n",
       "      <td>6.000000</td>\n",
       "      <td>2.0240</td>\n",
       "    </tr>\n",
       "    <tr>\n",
       "      <th>10</th>\n",
       "      <td>7.000000</td>\n",
       "      <td>2.0970</td>\n",
       "    </tr>\n",
       "    <tr>\n",
       "      <th>11</th>\n",
       "      <td>8.000000</td>\n",
       "      <td>2.1610</td>\n",
       "    </tr>\n",
       "    <tr>\n",
       "      <th>12</th>\n",
       "      <td>9.000000</td>\n",
       "      <td>2.2205</td>\n",
       "    </tr>\n",
       "    <tr>\n",
       "      <th>13</th>\n",
       "      <td>10.000000</td>\n",
       "      <td>2.2670</td>\n",
       "    </tr>\n",
       "    <tr>\n",
       "      <th>14</th>\n",
       "      <td>12.000000</td>\n",
       "      <td>2.3520</td>\n",
       "    </tr>\n",
       "    <tr>\n",
       "      <th>15</th>\n",
       "      <td>15.000000</td>\n",
       "      <td>2.4310</td>\n",
       "    </tr>\n",
       "    <tr>\n",
       "      <th>16</th>\n",
       "      <td>20.000000</td>\n",
       "      <td>2.5040</td>\n",
       "    </tr>\n",
       "    <tr>\n",
       "      <th>17</th>\n",
       "      <td>25.000000</td>\n",
       "      <td>2.5290</td>\n",
       "    </tr>\n",
       "    <tr>\n",
       "      <th>18</th>\n",
       "      <td>30.000000</td>\n",
       "      <td>2.5330</td>\n",
       "    </tr>\n",
       "  </tbody>\n",
       "</table>\n",
       "</div>"
      ],
      "text/plain": [
       "        TENOR   YIELD\n",
       "0    0.083333  0.9950\n",
       "1    0.166667  1.0372\n",
       "2    0.250000  1.1696\n",
       "3    0.500000  1.4304\n",
       "4    1.000000  1.7765\n",
       "5    2.000000  1.5635\n",
       "6    3.000000  1.7165\n",
       "7    4.000000  1.8390\n",
       "8    5.000000  1.9365\n",
       "9    6.000000  2.0240\n",
       "10   7.000000  2.0970\n",
       "11   8.000000  2.1610\n",
       "12   9.000000  2.2205\n",
       "13  10.000000  2.2670\n",
       "14  12.000000  2.3520\n",
       "15  15.000000  2.4310\n",
       "16  20.000000  2.5040\n",
       "17  25.000000  2.5290\n",
       "18  30.000000  2.5330"
      ]
     },
     "execution_count": 16,
     "metadata": {},
     "output_type": "execute_result"
    }
   ],
   "source": [
    "RATES.head(45)   "
   ]
  },
  {
   "cell_type": "code",
   "execution_count": null,
   "metadata": {},
   "outputs": [],
   "source": []
  },
  {
   "cell_type": "code",
   "execution_count": null,
   "metadata": {},
   "outputs": [],
   "source": []
  }
 ],
 "metadata": {
  "kernelspec": {
   "display_name": "Python 3.9.9 64-bit",
   "language": "python",
   "name": "python3"
  },
  "language_info": {
   "codemirror_mode": {
    "name": "ipython",
    "version": 3
   },
   "file_extension": ".py",
   "mimetype": "text/x-python",
   "name": "python",
   "nbconvert_exporter": "python",
   "pygments_lexer": "ipython3",
   "version": "3.9.9"
  },
  "orig_nbformat": 4,
  "vscode": {
   "interpreter": {
    "hash": "716494ec1fb2b77a42eedaac63697f1c016542dbc22302930eed5cdcf725770f"
   }
  }
 },
 "nbformat": 4,
 "nbformat_minor": 2
}

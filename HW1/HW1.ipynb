{
 "cells": [
  {
   "cell_type": "markdown",
   "metadata": {},
   "source": [
    "### FE - 680 Assignment 1\n",
    "\n",
    "Completed By: Riley Heiman\n",
    "\n",
    "Instructor: Dragos Bozdog (PhD)\n",
    "\n"
   ]
  },
  {
   "cell_type": "code",
   "execution_count": 2,
   "metadata": {},
   "outputs": [],
   "source": [
    "import os \n",
    "import numpy as np\n",
    "import pandas as pd\n",
    "\n",
    "import matplotlib.pyplot as plt "
   ]
  },
  {
   "cell_type": "code",
   "execution_count": 3,
   "metadata": {},
   "outputs": [
    {
     "data": {
      "text/plain": [
       "'d:\\\\Documents\\\\Stevens\\\\FE-680\\\\HW1'"
      ]
     },
     "execution_count": 3,
     "metadata": {},
     "output_type": "execute_result"
    }
   ],
   "source": [
    "os.chdir(r'D:\\Documents\\Stevens\\FE-680\\HW1')\n",
    "os.getcwd() "
   ]
  },
  {
   "cell_type": "markdown",
   "metadata": {},
   "source": [
    "---\n",
    "\n",
    "## Problem 1\n",
    "\n",
    "- Fill in forward curve, discount curve, zero curve\n",
    "\n",
    "### Forward Rate \n",
    "$r_0(t_1, t_2) =$ Forward rate  between time $t_1$ and $t_2$\n",
    "\n",
    "$[ 1 + r_0(0,1)][ 1 + r_0(1,2)] =  [1 + r_0(0,2)^2] $\n",
    "\n",
    "$[ 1 + r_0(1,2)] = \\frac{[1 + r_0(0,2)^2]}{[ 1 + r_0(0,1)]} $\n",
    "\n",
    "$r_0(1,2) = \\frac{[1 + r_0(0,2)^2]}{[ 1 + r_0(0,1)]} - 1 $\n",
    "\n",
    "$f(t) = \\frac{d(t-1)}{d(t)} -1 $\n",
    "### Discount Rate\n",
    "\n",
    "$ d_1 = \\frac{1}{ (1+f_1)} $\n",
    "\n",
    "$ d_2 = \\frac{1}{ (1+f_1) (1+f_2) } $\n",
    "\n",
    "$ d_n = \\frac{1}{ (1+f_1) (1+f_2) ... (1+f_n) } $\n",
    "\n",
    "\n",
    "### Zero Rate\n",
    "$ z(t) = (\\frac{1}{d(t)})^\\frac{1}{t} - 1$\n",
    "\n",
    "### Par Coupon Rate\n",
    "\n",
    "$c = \\frac{1- d(t)}{\\Sigma d(i)}$"
   ]
  },
  {
   "cell_type": "code",
   "execution_count": 15,
   "metadata": {},
   "outputs": [],
   "source": [
    "#def forward(r1, r2):\n",
    "#    r = (1+(r2**2) / 1+r1) -1\n",
    "#    r = round(r, ndigits = 3)*100\n",
    "#    return( r )  \n",
    "def forward(dt_1, dt):\n",
    "    (dt_1 / dt)-1\n",
    "\n",
    "def discount_rate(list_of_rates):\n",
    "    new_d = [((i/100)+1) for i in list_of_rates]\n",
    "    denominator = np.prod(new_d)\n",
    "    return( round( 1/denominator , ndigits = 4) ) "
   ]
  },
  {
   "cell_type": "code",
   "execution_count": 5,
   "metadata": {},
   "outputs": [
    {
     "data": {
      "text/plain": [
       "0.9053"
      ]
     },
     "execution_count": 5,
     "metadata": {},
     "output_type": "execute_result"
    }
   ],
   "source": [
    "dn = [5, 5.2]\n",
    "discount_rate(dn) "
   ]
  },
  {
   "cell_type": "code",
   "execution_count": 21,
   "metadata": {},
   "outputs": [
    {
     "data": {
      "text/html": [
       "<div>\n",
       "<style scoped>\n",
       "    .dataframe tbody tr th:only-of-type {\n",
       "        vertical-align: middle;\n",
       "    }\n",
       "\n",
       "    .dataframe tbody tr th {\n",
       "        vertical-align: top;\n",
       "    }\n",
       "\n",
       "    .dataframe thead th {\n",
       "        text-align: right;\n",
       "    }\n",
       "</style>\n",
       "<table border=\"1\" class=\"dataframe\">\n",
       "  <thead>\n",
       "    <tr style=\"text-align: right;\">\n",
       "      <th></th>\n",
       "      <th>TYPE</th>\n",
       "      <th>YEARS</th>\n",
       "      <th>INPUTS</th>\n",
       "    </tr>\n",
       "  </thead>\n",
       "  <tbody>\n",
       "    <tr>\n",
       "      <th>0</th>\n",
       "      <td>OVERNIGHT</td>\n",
       "      <td>0</td>\n",
       "      <td>1.90</td>\n",
       "    </tr>\n",
       "    <tr>\n",
       "      <th>1</th>\n",
       "      <td>CASH</td>\n",
       "      <td>1</td>\n",
       "      <td>2.20</td>\n",
       "    </tr>\n",
       "    <tr>\n",
       "      <th>2</th>\n",
       "      <td>CASH</td>\n",
       "      <td>2</td>\n",
       "      <td>2.40</td>\n",
       "    </tr>\n",
       "    <tr>\n",
       "      <th>3</th>\n",
       "      <td>FORWARDS</td>\n",
       "      <td>3</td>\n",
       "      <td>2.50</td>\n",
       "    </tr>\n",
       "    <tr>\n",
       "      <th>4</th>\n",
       "      <td>FORWARDS</td>\n",
       "      <td>4</td>\n",
       "      <td>2.75</td>\n",
       "    </tr>\n",
       "    <tr>\n",
       "      <th>5</th>\n",
       "      <td>FORWARDS</td>\n",
       "      <td>5</td>\n",
       "      <td>2.80</td>\n",
       "    </tr>\n",
       "    <tr>\n",
       "      <th>6</th>\n",
       "      <td>SWAPS</td>\n",
       "      <td>6</td>\n",
       "      <td>2.85</td>\n",
       "    </tr>\n",
       "    <tr>\n",
       "      <th>7</th>\n",
       "      <td>SWAPS</td>\n",
       "      <td>7</td>\n",
       "      <td>3.10</td>\n",
       "    </tr>\n",
       "    <tr>\n",
       "      <th>8</th>\n",
       "      <td>SWAPS</td>\n",
       "      <td>8</td>\n",
       "      <td>3.15</td>\n",
       "    </tr>\n",
       "    <tr>\n",
       "      <th>9</th>\n",
       "      <td>SWAPS</td>\n",
       "      <td>9</td>\n",
       "      <td>3.30</td>\n",
       "    </tr>\n",
       "    <tr>\n",
       "      <th>10</th>\n",
       "      <td>SWAPS</td>\n",
       "      <td>10</td>\n",
       "      <td>3.45</td>\n",
       "    </tr>\n",
       "  </tbody>\n",
       "</table>\n",
       "</div>"
      ],
      "text/plain": [
       "         TYPE  YEARS  INPUTS\n",
       "0   OVERNIGHT      0    1.90\n",
       "1        CASH      1    2.20\n",
       "2        CASH      2    2.40\n",
       "3    FORWARDS      3    2.50\n",
       "4    FORWARDS      4    2.75\n",
       "5    FORWARDS      5    2.80\n",
       "6       SWAPS      6    2.85\n",
       "7       SWAPS      7    3.10\n",
       "8       SWAPS      8    3.15\n",
       "9       SWAPS      9    3.30\n",
       "10      SWAPS     10    3.45"
      ]
     },
     "execution_count": 21,
     "metadata": {},
     "output_type": "execute_result"
    }
   ],
   "source": [
    "df = pd.DataFrame({'TYPE': ['OVERNIGHT', 'CASH', 'CASH', 'FORWARDS', 'FORWARDS', 'FORWARDS', 'SWAPS', 'SWAPS','SWAPS','SWAPS','SWAPS',],\n",
    "                   'YEARS': np.arange(0,11,1),\n",
    "                   'INPUTS': [1.9, 2.2, 2.4, 2.5, 2.75, 2.8, 2.85, 3.1, 3.150, 3.3, 3.45] })\n",
    "n_row, n_col = df.shape\n",
    "df.head(45)"
   ]
  },
  {
   "cell_type": "code",
   "execution_count": 22,
   "metadata": {},
   "outputs": [
    {
     "name": "stdout",
     "output_type": "stream",
     "text": [
      "[0]\n"
     ]
    }
   ],
   "source": [
    "DISCOUNT = []\n",
    "DISCOUNT.append(0)\n",
    "print(DISCOUNT) \n",
    "\n",
    "for i in range(1, n_row): \n",
    "    DISCOUNT.append( discount_rate( df['INPUTS'].iloc[1:i] ) ) \n",
    "df.insert(3, 'DISCOUNT_RATE', DISCOUNT)\n"
   ]
  },
  {
   "cell_type": "code",
   "execution_count": 24,
   "metadata": {},
   "outputs": [],
   "source": [
    "FORWARD = []\n",
    "FORWARD.append(1.9)\n",
    "FORWARD.append(2.2)\n",
    "\n",
    "for i in range(2, n_row):\n",
    "    FORWARD.append( forward( df['DISCOUNT_RATE'].iloc[i-1],  df['DISCOUNT_RATE'].iloc[i]))\n",
    "\n",
    "df.insert(3, 'FORWARD_RATE', FORWARD)\n",
    "\n"
   ]
  },
  {
   "cell_type": "code",
   "execution_count": null,
   "metadata": {},
   "outputs": [],
   "source": []
  },
  {
   "cell_type": "code",
   "execution_count": 7,
   "metadata": {},
   "outputs": [
    {
     "name": "stdout",
     "output_type": "stream",
     "text": [
      "[1.9, 2.2, 2.3, 2.5, 2.75, 2.8, nan, nan, nan, nan, nan]\n"
     ]
    }
   ],
   "source": [
    "\n",
    "FORWARD = [1.9, 2.2, forward(.022,.024), 2.5, 2.75, 2.8, np.nan, np.nan, np.nan, np.nan, np.nan]  # overnight rate\n",
    "print(FORWARD)\n"
   ]
  },
  {
   "cell_type": "code",
   "execution_count": 8,
   "metadata": {},
   "outputs": [],
   "source": [
    "inputs = [1.9, 2.2, forward(.022,.024), 2.5, 2.75, 2.8]  "
   ]
  },
  {
   "cell_type": "code",
   "execution_count": 9,
   "metadata": {},
   "outputs": [
    {
     "name": "stdout",
     "output_type": "stream",
     "text": [
      "[0.9814, 0.9602, 0.9386, 0.9157, 0.8912]\n"
     ]
    }
   ],
   "source": [
    "\n",
    "DISCOUNT = []\n",
    "for i in range(1, 6):\n",
    "    DISCOUNT.append( discount_rate(inputs[0:i]) )  \n",
    "\n",
    "print(DISCOUNT)\n"
   ]
  },
  {
   "cell_type": "code",
   "execution_count": 10,
   "metadata": {},
   "outputs": [],
   "source": [
    "DISCOUNT.append(np.nan) \n",
    "DISCOUNT.append(np.nan) \n",
    "DISCOUNT.append(np.nan) \n",
    "DISCOUNT.append(np.nan) \n",
    "DISCOUNT.append(np.nan)  # We don't have forward rates for swaps"
   ]
  },
  {
   "cell_type": "code",
   "execution_count": null,
   "metadata": {},
   "outputs": [],
   "source": []
  },
  {
   "cell_type": "markdown",
   "metadata": {},
   "source": [
    "\n",
    "- Compute the PV of the bond cashflows \n",
    "\n",
    "- Change the forward curve by +0.5% (at each maturity one at a time)  \n",
    "    - Compute the discount factors and \n",
    "        - PV\n",
    "        - DV01\n",
    "        - duration. \n",
    "    - Which forward change has the highest DV01?\n",
    "\n",
    "$${}$$\n",
    "\n",
    "- Compute the PV of the bond when increasing simultaneously all the forward rates by 1%,2%, and 3%\n",
    "\n",
    "- What is the forward price of the bond 18 months from today?"
   ]
  },
  {
   "cell_type": "markdown",
   "metadata": {},
   "source": [
    "---\n",
    "\n",
    "### Problem 2\n",
    "\n",
    "Consider an eight-month European put option on a Treasury bond that currently has **14.25 years to maturity**. The current cash bond price is **$908**, the exercise price is $900, and the volatility for the bond price is **10%** per annum. A coupon of **$25** will be paid by the bond in **three months**. The risk-free interest rate is **1.5%** for all maturities up to one year. Use Black’s model to determine the price of the option. Consider both the case where the strike price corresponds to the cash price of the bond and the case where it corresponds to the quoted price. \n",
    "\n",
    "<span style=\"color:#1a4cd6\">\n",
    "\n",
    "This is a great problem!\n",
    "\n",
    "**Summary:**\n",
    "\n",
    "Price a *put* option, with 8 months untill expiration. \n",
    "\n",
    "The Bond has the following conditions: \n",
    "- Years to maturity = 14.25\n",
    "- Bond Price = $908\n",
    "- Exercise Price = $900\n",
    "- Volatility of Bond Price = 10%\n",
    "- Coupon = $25 (paid in 3 months)\n",
    "- risk-free rate ($r$) = 1.5%\n",
    "\n",
    "\n",
    "Week 2 lecture says: \n",
    "\n",
    "$F_0 = E[F_T]$\n",
    "\n",
    "$$ c = P(0, t)[F_B N(d_1) - k N_(d_2)] $$\n",
    "\n",
    "$$ p = P(0, t)[kN(-d_2) - F_BN(-d_1)] $$\n",
    "\n",
    "where: \n",
    "$$d_1 = \\frac{ln(\\frac{F_B}{k}) + \\sigma_B^2 \\frac{T}{2}} {\\sigma_B \\sqrt{T}}$$\n",
    "\n",
    "$$ d_2 = d_1 - \\sigma_B \\sqrt{T} $$\n",
    "\n",
    "$F_B$ = forward bond price\n",
    "\n",
    "$$ F_B  = \\frac{B_0 - I}{ P(0,t) }$$\n",
    "\n",
    "$ B_0 = $ Bond at time 0\n",
    "\n",
    "$I =$ present value of coupons in $(0,t)$\n",
    "\n",
    "$P(t,T) = $ price at the t of a zero-coupon bond that pays $1 at T \n",
    "\n",
    "$$ P(t, T) = e^{-r(T-t)} $$ \n",
    "\n",
    "</span>\n",
    "\n",
    "\n"
   ]
  },
  {
   "cell_type": "code",
   "execution_count": null,
   "metadata": {},
   "outputs": [],
   "source": [
    "# INPUTS: \n",
    "\n",
    "\n",
    "# Step 1: Price I\n",
    "\n",
    "\n",
    "# Step 2: Price B0\n",
    "\n",
    "\n",
    "# Step 3: Price ZCB (P(0,T))\n",
    "\n",
    "\n",
    "# Step 4: Price Forward bond price (F_B)\n",
    "\n",
    "\n",
    "# Step 5: Price d1\n",
    "\n",
    "\n",
    "# Step 6: Price d2\n",
    "\n",
    "\n",
    "# Step 7: Price c\n",
    "\n",
    "\n",
    "# Step 8: Price p\n",
    "\n",
    "\n",
    "# Striclty for fun. What's the put-call parity? \n",
    "\n",
    "\n"
   ]
  },
  {
   "cell_type": "code",
   "execution_count": 1,
   "metadata": {},
   "outputs": [
    {
     "ename": "ModuleNotFoundError",
     "evalue": "No module named 'poisson'",
     "output_type": "error",
     "traceback": [
      "\u001b[1;31m---------------------------------------------------------------------------\u001b[0m",
      "\u001b[1;31mModuleNotFoundError\u001b[0m                       Traceback (most recent call last)",
      "\u001b[1;32m~\\AppData\\Local\\Temp/ipykernel_26592/3800344193.py\u001b[0m in \u001b[0;36m<module>\u001b[1;34m\u001b[0m\n\u001b[1;32m----> 1\u001b[1;33m \u001b[1;32mimport\u001b[0m \u001b[0mpoisson\u001b[0m\u001b[1;33m\u001b[0m\u001b[1;33m\u001b[0m\u001b[0m\n\u001b[0m",
      "\u001b[1;31mModuleNotFoundError\u001b[0m: No module named 'poisson'"
     ]
    }
   ],
   "source": [
    "\n",
    "\n",
    "\n",
    "\n"
   ]
  },
  {
   "cell_type": "code",
   "execution_count": 3,
   "metadata": {},
   "outputs": [],
   "source": [
    "\n",
    "# Import required libraries\n",
    "import time\n",
    "import numpy as np\n",
    "from scipy import stats\n",
    "import matplotlib.pyplot as plt\n",
    "import seaborn as sns\n"
   ]
  },
  {
   "cell_type": "code",
   "execution_count": 16,
   "metadata": {},
   "outputs": [],
   "source": [
    "S=10\n",
    "X=0.5\n",
    "T=1\n",
    "mu=0.12\n",
    "sigma=0.3\n",
    "Lambda=0.25\n",
    "a=0.2\n",
    "b=0.2\n",
    "Nsteps=252\n",
    "Nsim=1 \n",
    "alpha=0.05\n",
    "seed=None\n",
    "\n",
    "\n",
    "                \n",
    "# Set random seed\n",
    "np.random.seed(seed)\n",
    "\n",
    "'''\n",
    "Time the whole path-generating process, using a tic-toc method familiar\n",
    "to MATLAB users\n",
    "'''\n",
    "tic = time.time()\n",
    "T = 1\n",
    "Nsteps = 252\n",
    "\n",
    "# Calculate the length of the time step\n",
    "Delta_t = T/Nsteps\n",
    "\n",
    "'''\n",
    "Compute mean and variance of a standard lognormal distribution from user\n",
    "defined parameters a and b. The latter are useful to simulate the jump\n",
    "component in Monte Carlo.\n",
    "\n",
    "a and b are chosen such that log(Y(j)) ~ N(a, b**2). This implies that the\n",
    "mean and variance of the multiplicative jumps will be:\n",
    "    * mean_Y = np.exp(a + 0.5*(b**2))\n",
    "    * variance_Y = np.exp(2*a + b**2) * (np.exp(b**2)-1)\n",
    "'''\n",
    "mean_Y = np.exp(a + 0.5*(b**2))\n",
    "variance_Y = np.exp(2*a + b**2) * (np.exp(b**2)-1)\n",
    "\n",
    "'''\n",
    "Calculate the theoretical drift (M) and volatility (V) of the stock price\n",
    "process under Merton's jump diffusion model. These values can be used to\n",
    "monitor the rate of convergence of Monte Carlo estimates as the number of\n",
    "simulated experiments increases, and can help spot errors, if any, in\n",
    "implementing the model.\n",
    "'''\n",
    "M = S * np.exp(mu*T + Lambda*T*(mean_Y-1))\n",
    "V = S**2 * (np.exp((2*mu + sigma**2)*T \\\n",
    "    + Lambda*T*(variance_Y + mean_Y**2 - 1)) \\\n",
    "    - np.exp(2*mu*T + 2*Lambda*T*(mean_Y - 1)))\n",
    "\n",
    "\n",
    "'''\n",
    "Generate an Nsim x (Nsteps+1) array of zeros to preallocate the simulated\n",
    "paths of the Monte Carlo simulation. Each row of the matrix represents a\n",
    "full, possible path for the stock, each column all values of the asset at\n",
    "a particular instant in time.\n",
    "'''\n",
    "\n",
    "simulated_paths = np.zeros([Nsim, Nsteps+1])\n",
    "\n",
    "# Replace the first column of the array with the vector of initial price S\n",
    "simulated_paths[:,0] = S\n",
    "\n",
    "\n",
    "'''\n",
    "To account for the multiple sources of uncertainty in the jump diffusion\n",
    "process, generate three arrays of random variables.\n",
    "    - The first one is related to the standard Brownian motion, the component\n",
    "    epsilon(0,1) in epsilon(0,1) * np.sqrt(dt);\n",
    "    - The second and third ones model the jump, a compound Poisson process:\n",
    "    the former (a Poisson process with intensity Lambda) causes the asset\n",
    "    price to jump randomly (random timing); the latter (a Gaussian variable)\n",
    "    defines both the direction (sign) and intensity (magnitude) of the jump.\n",
    "'''\n",
    "\n",
    "\n",
    "Z_1 = np.random.normal(size=[Nsim, Nsteps])\n",
    "Z_2 = np.random.normal(size=[Nsim, Nsteps])\n",
    "Poisson = np.random.poisson(Lambda*Delta_t, [Nsim, Nsteps])\n",
    "\n",
    "\n",
    "\n",
    "# Populate the matrix with Nsim randomly generated paths of length Nsteps\n",
    "for i in range(Nsteps):\n",
    "    simulated_paths[:,i+1] = simulated_paths[:,i]*np.exp((mu\n",
    "                            - sigma**2/2)*Delta_t + sigma*np.sqrt(Delta_t) \\\n",
    "                            * Z_1[:,i] + a*Poisson[:,i] \\\n",
    "                            + np.sqrt(b**2) * np.sqrt(Poisson[:,i]) \\\n",
    "                            * Z_2[:,i])\n",
    "\n"
   ]
  },
  {
   "cell_type": "code",
   "execution_count": 15,
   "metadata": {},
   "outputs": [
    {
     "data": {
      "text/plain": [
       "[<matplotlib.lines.Line2D at 0x21620ea97c0>]"
      ]
     },
     "execution_count": 15,
     "metadata": {},
     "output_type": "execute_result"
    },
    {
     "data": {
      "image/png": "[encoded data removed]",
      "text/plain": [
       "<Figure size 432x288 with 1 Axes>"
      ]
     },
     "metadata": {
      "needs_background": "light"
     },
     "output_type": "display_data"
    }
   ],
   "source": [
    "import matplotlib.pyplot as plt\n",
    "\n",
    "y = list(simulated_paths)\n",
    "\n",
    "\n",
    "plt.plot(simulated_paths[0])\n",
    "\n",
    "\n",
    "\n",
    "\n"
   ]
  },
  {
   "cell_type": "code",
   "execution_count": null,
   "metadata": {},
   "outputs": [],
   "source": []
  }
 ],
 "metadata": {
  "kernelspec": {
   "display_name": "Python 3.9.9 64-bit",
   "language": "python",
   "name": "python3"
  },
  "language_info": {
   "codemirror_mode": {
    "name": "ipython",
    "version": 3
   },
   "file_extension": ".py",
   "mimetype": "text/x-python",
   "name": "python",
   "nbconvert_exporter": "python",
   "pygments_lexer": "ipython3",
   "version": "3.9.9"
  },
  "orig_nbformat": 4,
  "vscode": {
   "interpreter": {
    "hash": "716494ec1fb2b77a42eedaac63697f1c016542dbc22302930eed5cdcf725770f"
   }
  }
 },
 "nbformat": 4,
 "nbformat_minor": 2
}

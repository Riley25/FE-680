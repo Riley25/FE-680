{
 "cells": [
  {
   "cell_type": "markdown",
   "metadata": {},
   "source": [
    "### FE - 680 Assignment 1\n",
    "\n",
    "Completed By: Riley Heiman\n",
    "\n",
    "Instructor: Dragos Bozdog (PhD)\n",
    "\n"
   ]
  },
  {
   "cell_type": "code",
   "execution_count": 3,
   "metadata": {},
   "outputs": [],
   "source": [
    "import os \n",
    "import numpy as np\n",
    "import pandas as pd\n",
    "from scipy.stats import norm\n",
    "import seaborn as sns\n",
    "\n",
    "import matplotlib.pyplot as plt "
   ]
  },
  {
   "cell_type": "code",
   "execution_count": 4,
   "metadata": {},
   "outputs": [
    {
     "data": {
      "text/plain": [
       "'D:\\\\Documents\\\\Stevens\\\\FE-680\\\\HW1'"
      ]
     },
     "execution_count": 4,
     "metadata": {},
     "output_type": "execute_result"
    }
   ],
   "source": [
    "os.chdir(r'D:\\Documents\\Stevens\\FE-680\\HW1')\n",
    "os.getcwd() \n",
    "\n",
    "# print(os.listdir())    "
   ]
  },
  {
   "cell_type": "markdown",
   "metadata": {},
   "source": [
    "---\n",
    "\n",
    "## Problem 1\n",
    "\n",
    "- Fill in forward curve, discount curve, zero curve\n",
    "\n",
    "### Forward Rate \n",
    "$r_0(t_1, t_2) =$ Forward rate  between time $t_1$ and $t_2$\n",
    "\n",
    "$[ 1 + r_0(0,1)][ 1 + r_0(1,2)] =  [1 + r_0(0,2)^2] $\n",
    "\n",
    "$[ 1 + r_0(1,2)] = \\frac{[1 + r_0(0,2)^2]}{[ 1 + r_0(0,1)]} $\n",
    "\n",
    "$r_0(1,2) = \\frac{[1 + r_0(0,2)^2]}{[ 1 + r_0(0,1)]} - 1 $\n",
    "\n",
    "$f(t) = \\frac{d(t-1)}{d(t)} -1 $\n",
    "### Discount Rate\n",
    "\n",
    "$ d_1 = \\frac{1}{ (1+f_1)} $\n",
    "\n",
    "$ d_2 = \\frac{1}{ (1+f_1) (1+f_2) } $\n",
    "\n",
    "$ d_n = \\frac{1}{ (1+f_1) (1+f_2) ... (1+f_n) } $\n",
    "\n",
    "\n",
    "### Zero Rate\n",
    "$ z(t) = (\\frac{1}{d(t)})^\\frac{1}{t} - 1$\n",
    "\n",
    "### Par Coupon Rate\n",
    "\n",
    "$c = \\frac{1- d(t)}{\\Sigma d(i)}$"
   ]
  },
  {
   "cell_type": "code",
   "execution_count": 28,
   "metadata": {},
   "outputs": [],
   "source": [
    "\n",
    "def forward(dt_1, dt):\n",
    "    return(  ((dt_1 / dt)-1) * 100  ) \n",
    "\n",
    "def discount_rate(list_of_rates):\n",
    "    new_d = [((i/100)+1) for i in list_of_rates]\n",
    "    denominator = np.prod(new_d)\n",
    "    return( round( 1/denominator , ndigits = 4) ) \n",
    "\n",
    "def zero(dt,t):\n",
    "    return( ((1/dt)**(1/t) - 1)*100 )\n",
    "\n",
    "def coupon(list_of_dts):\n",
    "    l = len(list_of_dts)\n",
    "    number = (1 - list_of_dts[(l-1)]) / np.sum(list_of_dts)\n",
    "    return( number*100 )"
   ]
  },
  {
   "cell_type": "code",
   "execution_count": 29,
   "metadata": {},
   "outputs": [
    {
     "data": {
      "text/plain": [
       "0.9053"
      ]
     },
     "execution_count": 29,
     "metadata": {},
     "output_type": "execute_result"
    }
   ],
   "source": [
    "dn = [5, 5.2]\n",
    "discount_rate(dn) "
   ]
  },
  {
   "cell_type": "code",
   "execution_count": 32,
   "metadata": {},
   "outputs": [
    {
     "data": {
      "text/html": [
       "<div>\n",
       "<style scoped>\n",
       "    .dataframe tbody tr th:only-of-type {\n",
       "        vertical-align: middle;\n",
       "    }\n",
       "\n",
       "    .dataframe tbody tr th {\n",
       "        vertical-align: top;\n",
       "    }\n",
       "\n",
       "    .dataframe thead th {\n",
       "        text-align: right;\n",
       "    }\n",
       "</style>\n",
       "<table border=\"1\" class=\"dataframe\">\n",
       "  <thead>\n",
       "    <tr style=\"text-align: right;\">\n",
       "      <th></th>\n",
       "      <th>TYPE</th>\n",
       "      <th>YEARS</th>\n",
       "      <th>INPUTS</th>\n",
       "    </tr>\n",
       "  </thead>\n",
       "  <tbody>\n",
       "    <tr>\n",
       "      <th>0</th>\n",
       "      <td>OVERNIGHT</td>\n",
       "      <td>0</td>\n",
       "      <td>1.90</td>\n",
       "    </tr>\n",
       "    <tr>\n",
       "      <th>1</th>\n",
       "      <td>CASH</td>\n",
       "      <td>1</td>\n",
       "      <td>2.20</td>\n",
       "    </tr>\n",
       "    <tr>\n",
       "      <th>2</th>\n",
       "      <td>CASH</td>\n",
       "      <td>2</td>\n",
       "      <td>2.40</td>\n",
       "    </tr>\n",
       "    <tr>\n",
       "      <th>3</th>\n",
       "      <td>FORWARDS</td>\n",
       "      <td>3</td>\n",
       "      <td>2.50</td>\n",
       "    </tr>\n",
       "    <tr>\n",
       "      <th>4</th>\n",
       "      <td>FORWARDS</td>\n",
       "      <td>4</td>\n",
       "      <td>2.75</td>\n",
       "    </tr>\n",
       "    <tr>\n",
       "      <th>5</th>\n",
       "      <td>FORWARDS</td>\n",
       "      <td>5</td>\n",
       "      <td>2.80</td>\n",
       "    </tr>\n",
       "    <tr>\n",
       "      <th>6</th>\n",
       "      <td>SWAPS</td>\n",
       "      <td>6</td>\n",
       "      <td>2.85</td>\n",
       "    </tr>\n",
       "    <tr>\n",
       "      <th>7</th>\n",
       "      <td>SWAPS</td>\n",
       "      <td>7</td>\n",
       "      <td>3.10</td>\n",
       "    </tr>\n",
       "    <tr>\n",
       "      <th>8</th>\n",
       "      <td>SWAPS</td>\n",
       "      <td>8</td>\n",
       "      <td>3.15</td>\n",
       "    </tr>\n",
       "    <tr>\n",
       "      <th>9</th>\n",
       "      <td>SWAPS</td>\n",
       "      <td>9</td>\n",
       "      <td>3.30</td>\n",
       "    </tr>\n",
       "    <tr>\n",
       "      <th>10</th>\n",
       "      <td>SWAPS</td>\n",
       "      <td>10</td>\n",
       "      <td>3.45</td>\n",
       "    </tr>\n",
       "  </tbody>\n",
       "</table>\n",
       "</div>"
      ],
      "text/plain": [
       "         TYPE  YEARS  INPUTS\n",
       "0   OVERNIGHT      0    1.90\n",
       "1        CASH      1    2.20\n",
       "2        CASH      2    2.40\n",
       "3    FORWARDS      3    2.50\n",
       "4    FORWARDS      4    2.75\n",
       "5    FORWARDS      5    2.80\n",
       "6       SWAPS      6    2.85\n",
       "7       SWAPS      7    3.10\n",
       "8       SWAPS      8    3.15\n",
       "9       SWAPS      9    3.30\n",
       "10      SWAPS     10    3.45"
      ]
     },
     "execution_count": 32,
     "metadata": {},
     "output_type": "execute_result"
    }
   ],
   "source": [
    "df = pd.DataFrame({'TYPE': ['OVERNIGHT', 'CASH', 'CASH', 'FORWARDS', 'FORWARDS', 'FORWARDS', 'SWAPS', 'SWAPS','SWAPS','SWAPS','SWAPS',],\n",
    "                   'YEARS': np.arange(0,11,1),\n",
    "                   'INPUTS': [1.9, 2.2, 2.4, 2.5, 2.75, 2.8, 2.85, 3.1, 3.150, 3.3, 3.45] })\n",
    "n_row, n_col = df.shape\n",
    "df.head(45)"
   ]
  },
  {
   "cell_type": "code",
   "execution_count": 33,
   "metadata": {},
   "outputs": [
    {
     "name": "stdout",
     "output_type": "stream",
     "text": [
      "[1.0]\n"
     ]
    }
   ],
   "source": [
    "DISCOUNT = []\n",
    "DISCOUNT.append(1.0)\n",
    "print(DISCOUNT) \n",
    "\n",
    "for i in range(1, n_row): \n",
    "    DISCOUNT.append( discount_rate( df['INPUTS'].iloc[1:i] ) ) \n",
    "df.insert(3, 'DISCOUNT_RATE', DISCOUNT)\n"
   ]
  },
  {
   "cell_type": "code",
   "execution_count": 34,
   "metadata": {},
   "outputs": [],
   "source": [
    "FORWARD = []\n",
    "FORWARD.append(1.9)\n",
    "FORWARD.append(2.2)\n",
    "\n",
    "for i in range(2, n_row):\n",
    "    FORWARD.append( forward( df['DISCOUNT_RATE'].iloc[i-1],  df['DISCOUNT_RATE'].iloc[i]))\n",
    "\n",
    "df.insert(4, 'FORWARD_RATE', FORWARD)\n",
    "\n"
   ]
  },
  {
   "cell_type": "code",
   "execution_count": 35,
   "metadata": {},
   "outputs": [],
   "source": [
    "COUPON = []\n",
    "COUPON.append(1.9)\n",
    "COUPON.append(2.2)\n",
    "\n",
    "for i in range(2, n_row):\n",
    "    COUPON.append( coupon(df['DISCOUNT_RATE'].iloc[0:i])  )\n",
    "\n",
    "df.insert(5, 'COUPON_RATE', COUPON)"
   ]
  },
  {
   "cell_type": "code",
   "execution_count": 36,
   "metadata": {},
   "outputs": [],
   "source": [
    "ZERO = []\n",
    "ZERO.append(1.0)\n",
    "\n",
    "for i in range(1,n_row):\n",
    "    ZERO.append( zero( df['DISCOUNT_RATE'].iloc[i], df['YEARS'].iloc[i] ) )\n",
    "\n",
    "df.insert( 6, 'ZERO_RATE', ZERO )"
   ]
  },
  {
   "cell_type": "code",
   "execution_count": 38,
   "metadata": {},
   "outputs": [
    {
     "data": {
      "text/html": [
       "<div>\n",
       "<style scoped>\n",
       "    .dataframe tbody tr th:only-of-type {\n",
       "        vertical-align: middle;\n",
       "    }\n",
       "\n",
       "    .dataframe tbody tr th {\n",
       "        vertical-align: top;\n",
       "    }\n",
       "\n",
       "    .dataframe thead th {\n",
       "        text-align: right;\n",
       "    }\n",
       "</style>\n",
       "<table border=\"1\" class=\"dataframe\">\n",
       "  <thead>\n",
       "    <tr style=\"text-align: right;\">\n",
       "      <th></th>\n",
       "      <th>TYPE</th>\n",
       "      <th>YEARS</th>\n",
       "      <th>INPUTS</th>\n",
       "      <th>DISCOUNT_RATE</th>\n",
       "      <th>FORWARD_RATE</th>\n",
       "      <th>COUPON_RATE</th>\n",
       "      <th>ZERO_RATE</th>\n",
       "    </tr>\n",
       "  </thead>\n",
       "  <tbody>\n",
       "    <tr>\n",
       "      <th>0</th>\n",
       "      <td>OVERNIGHT</td>\n",
       "      <td>0</td>\n",
       "      <td>1.90</td>\n",
       "      <td>1.0000</td>\n",
       "      <td>1.900000</td>\n",
       "      <td>1.900000</td>\n",
       "      <td>1.000000</td>\n",
       "    </tr>\n",
       "    <tr>\n",
       "      <th>1</th>\n",
       "      <td>CASH</td>\n",
       "      <td>1</td>\n",
       "      <td>2.20</td>\n",
       "      <td>1.0000</td>\n",
       "      <td>2.200000</td>\n",
       "      <td>2.200000</td>\n",
       "      <td>0.000000</td>\n",
       "    </tr>\n",
       "    <tr>\n",
       "      <th>2</th>\n",
       "      <td>CASH</td>\n",
       "      <td>2</td>\n",
       "      <td>2.40</td>\n",
       "      <td>0.9785</td>\n",
       "      <td>2.197241</td>\n",
       "      <td>0.000000</td>\n",
       "      <td>1.092651</td>\n",
       "    </tr>\n",
       "    <tr>\n",
       "      <th>3</th>\n",
       "      <td>FORWARDS</td>\n",
       "      <td>3</td>\n",
       "      <td>2.50</td>\n",
       "      <td>0.9555</td>\n",
       "      <td>2.407117</td>\n",
       "      <td>0.721840</td>\n",
       "      <td>1.528921</td>\n",
       "    </tr>\n",
       "    <tr>\n",
       "      <th>4</th>\n",
       "      <td>FORWARDS</td>\n",
       "      <td>4</td>\n",
       "      <td>2.75</td>\n",
       "      <td>0.9322</td>\n",
       "      <td>2.499464</td>\n",
       "      <td>1.131164</td>\n",
       "      <td>1.770691</td>\n",
       "    </tr>\n",
       "    <tr>\n",
       "      <th>5</th>\n",
       "      <td>FORWARDS</td>\n",
       "      <td>5</td>\n",
       "      <td>2.80</td>\n",
       "      <td>0.9073</td>\n",
       "      <td>2.744406</td>\n",
       "      <td>1.393284</td>\n",
       "      <td>1.964693</td>\n",
       "    </tr>\n",
       "    <tr>\n",
       "      <th>6</th>\n",
       "      <td>SWAPS</td>\n",
       "      <td>6</td>\n",
       "      <td>2.85</td>\n",
       "      <td>0.8826</td>\n",
       "      <td>2.798550</td>\n",
       "      <td>1.605612</td>\n",
       "      <td>2.103198</td>\n",
       "    </tr>\n",
       "    <tr>\n",
       "      <th>7</th>\n",
       "      <td>SWAPS</td>\n",
       "      <td>7</td>\n",
       "      <td>3.10</td>\n",
       "      <td>0.8581</td>\n",
       "      <td>2.855145</td>\n",
       "      <td>1.763796</td>\n",
       "      <td>2.210282</td>\n",
       "    </tr>\n",
       "    <tr>\n",
       "      <th>8</th>\n",
       "      <td>SWAPS</td>\n",
       "      <td>8</td>\n",
       "      <td>3.15</td>\n",
       "      <td>0.8323</td>\n",
       "      <td>3.099844</td>\n",
       "      <td>1.888425</td>\n",
       "      <td>2.321056</td>\n",
       "    </tr>\n",
       "    <tr>\n",
       "      <th>9</th>\n",
       "      <td>SWAPS</td>\n",
       "      <td>9</td>\n",
       "      <td>3.30</td>\n",
       "      <td>0.8069</td>\n",
       "      <td>3.147850</td>\n",
       "      <td>2.009225</td>\n",
       "      <td>2.412594</td>\n",
       "    </tr>\n",
       "    <tr>\n",
       "      <th>10</th>\n",
       "      <td>SWAPS</td>\n",
       "      <td>10</td>\n",
       "      <td>3.45</td>\n",
       "      <td>0.7811</td>\n",
       "      <td>3.303034</td>\n",
       "      <td>2.109599</td>\n",
       "      <td>2.501291</td>\n",
       "    </tr>\n",
       "  </tbody>\n",
       "</table>\n",
       "</div>"
      ],
      "text/plain": [
       "         TYPE  YEARS  INPUTS  DISCOUNT_RATE  FORWARD_RATE  COUPON_RATE  \\\n",
       "0   OVERNIGHT      0    1.90         1.0000      1.900000     1.900000   \n",
       "1        CASH      1    2.20         1.0000      2.200000     2.200000   \n",
       "2        CASH      2    2.40         0.9785      2.197241     0.000000   \n",
       "3    FORWARDS      3    2.50         0.9555      2.407117     0.721840   \n",
       "4    FORWARDS      4    2.75         0.9322      2.499464     1.131164   \n",
       "5    FORWARDS      5    2.80         0.9073      2.744406     1.393284   \n",
       "6       SWAPS      6    2.85         0.8826      2.798550     1.605612   \n",
       "7       SWAPS      7    3.10         0.8581      2.855145     1.763796   \n",
       "8       SWAPS      8    3.15         0.8323      3.099844     1.888425   \n",
       "9       SWAPS      9    3.30         0.8069      3.147850     2.009225   \n",
       "10      SWAPS     10    3.45         0.7811      3.303034     2.109599   \n",
       "\n",
       "    ZERO_RATE  \n",
       "0    1.000000  \n",
       "1    0.000000  \n",
       "2    1.092651  \n",
       "3    1.528921  \n",
       "4    1.770691  \n",
       "5    1.964693  \n",
       "6    2.103198  \n",
       "7    2.210282  \n",
       "8    2.321056  \n",
       "9    2.412594  \n",
       "10   2.501291  "
      ]
     },
     "execution_count": 38,
     "metadata": {},
     "output_type": "execute_result"
    }
   ],
   "source": [
    "df.head(45) "
   ]
  },
  {
   "cell_type": "markdown",
   "metadata": {},
   "source": [
    "\n",
    "b.)  Compute the PV of the bond cashflows \n",
    "\n",
    "<span style=\"color:#1a4cd6\">\n",
    "\n",
    "$$ PV = \\Sigma d(t_i) * C(i) $$\n",
    "\n",
    "</span>\n",
    "\n"
   ]
  },
  {
   "cell_type": "code",
   "execution_count": 45,
   "metadata": {},
   "outputs": [
    {
     "name": "stdout",
     "output_type": "stream",
     "text": [
      "The Prent Value = $15.24\n"
     ]
    }
   ],
   "source": [
    "PV = np.sum(   df['DISCOUNT_RATE'] * df['COUPON_RATE'] )\n",
    "PV = np.round(PV, decimals = 2)\n",
    "print(\"The Present Value = $\" + str(PV) )  "
   ]
  },
  {
   "cell_type": "markdown",
   "metadata": {},
   "source": [
    "\n",
    "b.) Change the forward curve by +0.5% (at each maturity one at a time)  \n",
    "\n",
    "- Compute the discount factors and \n",
    "    - PV\n",
    "    - DV01\n",
    "    - Duration. \n",
    "        - Which forward change has the highest DV01?\n"
   ]
  },
  {
   "cell_type": "code",
   "execution_count": 49,
   "metadata": {},
   "outputs": [
    {
     "name": "stdout",
     "output_type": "stream",
     "text": [
      "The Present Value = $17.39\n"
     ]
    }
   ],
   "source": [
    "dfc = df.copy()\n",
    "dfc['INPUTS'] = dfc['INPUTS'] + .5\n",
    "\n",
    "DISCOUNT = []\n",
    "DISCOUNT.append(0)\n",
    "\n",
    "for i in range(1, n_row): \n",
    "    DISCOUNT.append( discount_rate( dfc['INPUTS'].iloc[1:i] ) ) \n",
    "dfc['DISCOUNT_RATE'] = DISCOUNT\n",
    "\n",
    "\n",
    "FORWARD = []\n",
    "FORWARD.append(1.9)\n",
    "FORWARD.append(2.2)\n",
    "\n",
    "for i in range(2, n_row):\n",
    "    FORWARD.append( forward( dfc['DISCOUNT_RATE'].iloc[i-1],  dfc['DISCOUNT_RATE'].iloc[i]))\n",
    "\n",
    "dfc['FORWARD'] = FORWARD\n",
    "\n",
    "COUPON = []\n",
    "COUPON.append(1.9)\n",
    "COUPON.append(2.2)\n",
    "\n",
    "for i in range(2, n_row):\n",
    "    COUPON.append( coupon(dfc['DISCOUNT_RATE'].iloc[0:i])  )\n",
    "\n",
    "dfc['COUPON_RATE'] = COUPON\n",
    "\n",
    "\n",
    "PV = np.sum(   dfc['DISCOUNT_RATE'] * dfc['COUPON_RATE'] )\n",
    "PV = np.round(PV, decimals = 2)\n",
    "print(\"The Present Value = $\" + str(PV) )  \n"
   ]
  },
  {
   "cell_type": "markdown",
   "metadata": {},
   "source": [
    "\n",
    "$${}$$\n",
    "\n",
    "- Compute the PV of the bond when increasing simultaneously all the forward rates by 1%,2%, and 3%\n",
    "\n",
    "- What is the forward price of the bond 18 months from today?"
   ]
  },
  {
   "cell_type": "markdown",
   "metadata": {},
   "source": [
    "---\n",
    "\n",
    "### Problem 2\n",
    "\n",
    "Consider an eight-month European put option on a Treasury bond that currently has **14.25 years to maturity**. The current cash bond price is **$908**, the exercise price is $900, and the volatility for the bond price is **10%** per annum. A coupon of **$25** will be paid by the bond in **three months**. The risk-free interest rate is **1.5%** for all maturities up to one year. Use Black’s model to determine the price of the option. Consider both the case where the strike price corresponds to the cash price of the bond and the case where it corresponds to the quoted price. \n",
    "\n",
    "<span style=\"color:#1a4cd6\">\n",
    "\n",
    "This is a great problem!\n",
    "\n",
    "**Summary:**\n",
    "\n",
    "Price a *put* option, with 8 months untill expiration. \n",
    "\n",
    "The Bond has the following conditions: \n",
    "- Years to maturity = 14.25\n",
    "- Bond Price = $908\n",
    "- Exercise Price = $900\n",
    "- Volatility of Bond Price = 10%\n",
    "- Coupon = $25 (paid in 3 months)\n",
    "- risk-free rate ($r$) = 1.5%\n",
    "\n",
    "\n",
    "Week 2 lecture says: \n",
    "\n",
    "$F_0 = E[F_T]$\n",
    "\n",
    "$$ c = P(0, t)[F_B N(d_1) - k N_(d_2)] $$\n",
    "\n",
    "$$ p = P(0, t)[kN(-d_2) - F_BN(-d_1)] $$\n",
    "\n",
    "where: \n",
    "$$d_1 = \\frac{ln(\\frac{F_B}{k}) + \\sigma_B^2 \\frac{T}{2}} {\\sigma_B \\sqrt{T}}$$\n",
    "\n",
    "$$ d_2 = d_1 - \\sigma_B \\sqrt{T} $$\n",
    "\n",
    "$F_B$ = forward bond price\n",
    "\n",
    "$$ F_B  = \\frac{B_0 - I}{ P(0,t) }$$\n",
    "\n",
    "$ B_0 = $ Bond at time 0\n",
    "\n",
    "$I =$ present value of coupons in $(0,t)$\n",
    "\n",
    "$P(t,T) = $ price at the t of a zero-coupon bond that pays $1 at T \n",
    "\n",
    "$$ P(t, T) = e^{-r(T-t)} $$ \n",
    "\n",
    "</span>\n",
    "\n",
    "Page 134 of Hull (Chapter 6)\n",
    "\n"
   ]
  },
  {
   "cell_type": "code",
   "execution_count": 180,
   "metadata": {},
   "outputs": [
    {
     "name": "stdout",
     "output_type": "stream",
     "text": [
      "33.04\n"
     ]
    }
   ],
   "source": [
    "\n",
    "# INPUTS: \n",
    "B0 = 908\n",
    "\n",
    "c = 25\n",
    "r = .015\n",
    "time_to_expiration = 8/12\n",
    "K = 900\n",
    "sigma = .10\n",
    "\n",
    "# Step 1: Price I\n",
    "I = c*np.exp(-r*.25)\n",
    "\n",
    "# Step 2: Price ZCB (P(0,T))\n",
    "P0t = np.exp(-r*time_to_expiration)\n",
    "\n",
    "# Step 3: Price Forward bond price (F_B)\n",
    "FB = (B0 - I)/P0t\n",
    "\n",
    "\n",
    "# Step 5: Price nd1\n",
    "d1 = ((np.log(FB/K)) + .1**2 * time_to_expiration/2 )\n",
    "d1= d1/(sigma*np.sqrt(time_to_expiration))\n",
    "nd1 = norm.cdf(d1,loc=0, scale=1)\n",
    "\n",
    "# Step 6: Price nd2\n",
    "d2 = d1 - sigma*np.sqrt(time_to_expiration)\n",
    "nd2 = norm.cdf(d2,loc=0, scale=1)\n",
    "\n",
    "# Step 7: Price c\n",
    "c = P0t*(FB*nd1 - K*d2)\n",
    "c = np.round(c, decimals = 2)\n",
    "\n",
    "# Step 8: Price p\n",
    "p = P0t*(K*norm.cdf(-d2,loc=0, scale=1) - FB*norm.cdf(-d1,loc=0, scale=1))\n",
    "p = np.round(p, decimals = 2)\n",
    "\n",
    "# print(c)\n",
    "print(p)\n"
   ]
  },
  {
   "cell_type": "markdown",
   "metadata": {},
   "source": [
    "### The final price is listed above (33.04)\n"
   ]
  },
  {
   "cell_type": "markdown",
   "metadata": {},
   "source": [
    "---\n",
    "## Problem 3\n",
    "Consider the following data: \n",
    "\n",
    "Use the data provided to build the yield curve using the **cubic spline model**. Report the value for the estimated coefficients and write the final expression for the rate as\n",
    "\n",
    "$$ R(0,t) = a + b( t- t_1) + c(t - t_1)^2 + \\Sigma_{k=1}^{n-1} d_k (t-t_k)^3_+ $$\n",
    "\n",
    "a) Plot the fitted model and the original yield rates on the same graph. Compare the results.\n",
    "\n",
    "\n",
    "b) Calculate the yield rate for 𝑡𝑡= 4 years.\n",
    "\n",
    "\n",
    "<span style=\"color:#1a4cd6\">\n",
    "\n",
    "Inputs = x, and y\n",
    "\n",
    "x = time to maturity\n",
    "\n",
    "y = yield rate\n",
    "\n",
    "$$\\:$$\n",
    "\n",
    "This is a 4 step process\n",
    "\n",
    "$$\\:$$\n",
    "\n",
    "#### Step 1:  For the matrix A, and R fill out the matrix with values\n",
    "\n",
    "$$ \\begin{bmatrix}\n",
    "R_1 \\\\ \n",
    "R_2 \\\\\n",
    "R_3 \\\\\n",
    ". \\\\\n",
    ". \\\\\n",
    "0 \\\\\n",
    "0 \n",
    "\\end{bmatrix}\n",
    " = \n",
    "\n",
    "A\n",
    "\n",
    "\\begin{bmatrix}\n",
    "a \\\\ \n",
    "b \\\\\n",
    "c \\\\\n",
    "d_1 \\\\\n",
    ". \\\\\n",
    ". \\\\\n",
    "d_{n-1} \n",
    "\\end{bmatrix}\n",
    "\n",
    "$$\n",
    "\n",
    "\n",
    "#### Step 2:  Multiply the matrix on the right hand side \n",
    "$$\n",
    "\\begin{bmatrix}\n",
    "a \\\\ \n",
    "b \\\\\n",
    "c \\\\\n",
    "d_1 \\\\\n",
    ". \\\\\n",
    ". \\\\\n",
    "d_{n-1} \n",
    "\\end{bmatrix}\n",
    " = \n",
    "A^{-1}\n",
    "\n",
    " \\begin{bmatrix}\n",
    "R_1 \\\\ \n",
    "R_2 \\\\\n",
    "R_3 \\\\\n",
    ". \\\\\n",
    ". \\\\\n",
    "0 \\\\\n",
    "0 \n",
    "\\end{bmatrix}\n",
    "$$\n",
    "\n",
    "\n",
    "#### Step 3: Based upon coefficient matrix, plug in x values to generate a line.\n",
    "\n",
    "\n",
    "#### Step 4: Plot it!\n",
    "\n",
    "\n",
    "</span>\n",
    "\n"
   ]
  },
  {
   "cell_type": "code",
   "execution_count": 3,
   "metadata": {},
   "outputs": [
    {
     "data": {
      "text/html": [
       "<div>\n",
       "<style scoped>\n",
       "    .dataframe tbody tr th:only-of-type {\n",
       "        vertical-align: middle;\n",
       "    }\n",
       "\n",
       "    .dataframe tbody tr th {\n",
       "        vertical-align: top;\n",
       "    }\n",
       "\n",
       "    .dataframe thead th {\n",
       "        text-align: right;\n",
       "    }\n",
       "</style>\n",
       "<table border=\"1\" class=\"dataframe\">\n",
       "  <thead>\n",
       "    <tr style=\"text-align: right;\">\n",
       "      <th></th>\n",
       "      <th>TIME_TO_MATURITY</th>\n",
       "      <th>YIELD_RATE</th>\n",
       "    </tr>\n",
       "  </thead>\n",
       "  <tbody>\n",
       "    <tr>\n",
       "      <th>0</th>\n",
       "      <td>0.25</td>\n",
       "      <td>1.20</td>\n",
       "    </tr>\n",
       "    <tr>\n",
       "      <th>1</th>\n",
       "      <td>0.50</td>\n",
       "      <td>1.23</td>\n",
       "    </tr>\n",
       "    <tr>\n",
       "      <th>2</th>\n",
       "      <td>1.00</td>\n",
       "      <td>1.30</td>\n",
       "    </tr>\n",
       "    <tr>\n",
       "      <th>3</th>\n",
       "      <td>2.00</td>\n",
       "      <td>1.50</td>\n",
       "    </tr>\n",
       "    <tr>\n",
       "      <th>4</th>\n",
       "      <td>3.00</td>\n",
       "      <td>1.77</td>\n",
       "    </tr>\n",
       "  </tbody>\n",
       "</table>\n",
       "</div>"
      ],
      "text/plain": [
       "   TIME_TO_MATURITY  YIELD_RATE\n",
       "0              0.25        1.20\n",
       "1              0.50        1.23\n",
       "2              1.00        1.30\n",
       "3              2.00        1.50\n",
       "4              3.00        1.77"
      ]
     },
     "execution_count": 3,
     "metadata": {},
     "output_type": "execute_result"
    }
   ],
   "source": [
    "df = pd.DataFrame({\n",
    "    'TIME_TO_MATURITY':[.25,.5,1,2,3,5,7,10,20],\n",
    "    'YIELD_RATE':[1.2,1.23, 1.3, 1.5, 1.77, 2.4, 3.14, 3.45, 3.8]\n",
    "})\n",
    "\n",
    "df.head()"
   ]
  },
  {
   "cell_type": "code",
   "execution_count": 44,
   "metadata": {},
   "outputs": [
    {
     "name": "stdout",
     "output_type": "stream",
     "text": [
      "8\n",
      "[[ 0.015625  0.0625    0.25     ...  0.        0.        0.      ]\n",
      " [ 0.125     0.25      0.5      ...  0.        0.        0.      ]\n",
      " [ 0.        0.        0.       ...  0.        0.        0.      ]\n",
      " ...\n",
      " [ 0.        0.        0.       ... -2.        0.        0.      ]\n",
      " [ 1.5       2.        0.       ...  0.        0.        0.      ]\n",
      " [ 0.        0.        0.       ...  2.        0.        0.      ]]\n",
      "[1.2  1.23 1.23 1.3  1.3  1.5  1.5  1.77 1.77 2.4  2.4  3.14 3.14 3.45\n",
      " 3.45 3.8  0.   0.   0.   0.   0.   0.   0.   0.   0.   0.   0.   0.\n",
      " 0.   0.   0.   0.  ]\n"
     ]
    }
   ],
   "source": [
    "x =  np.asarray([2,3,4])\n",
    "y =  np.asarray([3,2,4])\n",
    "\n",
    "x = np.asarray(df['TIME_TO_MATURITY'])\n",
    "y = np.asarray(df['YIELD_RATE'])\n",
    "\n",
    "n = len(x)\n",
    "\n",
    "sub_sets = n-1; print(sub_sets)   # This means we have N equations\n",
    "\n",
    "\n",
    "A = np.zeros((4*(sub_sets), 4*(sub_sets)))\n",
    "b = np.concatenate([y[:1], np.repeat(y[1:-1], 2), y[-1:], np.zeros(2*(sub_sets))])\n",
    "\n",
    "xi = 0\n",
    "\n",
    "for i in range(sub_sets):\n",
    "    r = i*2\n",
    "    c = i*4\n",
    "\n",
    "    A[r][c:c+4] = [x[xi]**3, x[xi]**2, x[xi], 1]\n",
    "    xi += 1\n",
    "    A[r+1][c:c+4] = [x[xi]**3, x[xi]**2, x[xi], 1]\n",
    "\n",
    "c = 0\n",
    "xi = 0\n",
    "\n",
    "for i in range(sub_sets-1):\n",
    "    c = i*4\n",
    "    r += 2\n",
    "    xi += 1\n",
    "\n",
    "    A[r][c:c+3] = [3*(x[xi]**2), 2*x[xi], 1]\n",
    "    A[r][c+4:c+7] = [-(3*(x[xi]**2)), -(2*x[xi]), -1]\n",
    "\n",
    "    A[r+1][c:c+2] = [6*(x[xi]), 2]\n",
    "    A[r+1][c+4:c+6] = [-(6*(x[xi])), -2]\n",
    "\n",
    "A[-2][:2] = [6*x[0], 2]\n",
    "A[-1][-4:-2] = [6*x[-1], 2]\n",
    "\n",
    "print(A)  \n",
    "print(b)  \n"
   ]
  },
  {
   "cell_type": "code",
   "execution_count": 45,
   "metadata": {},
   "outputs": [
    {
     "name": "stdout",
     "output_type": "stream",
     "text": [
      "[[ 3.47808384e-02 -2.60856288e-02  1.24347605e-01  1.17000000e+00]\n",
      " [ 1.04383232e-02  1.04281440e-02  1.06090718e-01  1.17304281e+00]\n",
      " [-5.08958097e-06  4.17583823e-02  7.47604801e-02  1.18348623e+00]\n",
      " [-1.34607793e-02  1.22492520e-01 -8.67077961e-02  1.29113174e+00]\n",
      " [ 6.87567490e-03 -6.05355670e-02  4.62376466e-01  7.42047482e-01]\n",
      " [-2.19738815e-02  3.72207780e-01 -1.70134027e+00  4.34824204e+00]\n",
      " [ 1.01840524e-02 -3.03108832e-01  3.02587602e+00 -6.68192929e+00]\n",
      " [-8.04246134e-05  4.82547680e-03 -5.34670747e-02  3.58254768e+00]]\n"
     ]
    }
   ],
   "source": [
    "### Based upon the input data, X & Y, now we can do the matrix multiplication to sovle for matrix [a ,b, c, d1, d2, d3]\n",
    "\n",
    "A_INVERSE = np.linalg.inv(A)\n",
    "\n",
    "c = np.dot(A_INVERSE, b)\n",
    "c = c.reshape(-1 , 4)\n",
    "\n",
    "#  lines = np.dot(np.linalg.inv(A), b).reshape(-1, 4)\n",
    "#  expanded = np.hstack([c[i] * (values ** i) for i in range(0, len(coeffs))])\n",
    "#  np.sum(expanded, axis=1)\n",
    "\n",
    "print(c) \n"
   ]
  },
  {
   "cell_type": "code",
   "execution_count": 46,
   "metadata": {},
   "outputs": [
    {
     "data": {
      "text/plain": [
       "-0.026085628804966454"
      ]
     },
     "execution_count": 46,
     "metadata": {},
     "output_type": "execute_result"
    }
   ],
   "source": [
    "c[0,1]"
   ]
  },
  {
   "cell_type": "code",
   "execution_count": 50,
   "metadata": {},
   "outputs": [
    {
     "name": "stdout",
     "output_type": "stream",
     "text": [
      "0.25\n",
      "20.0\n"
     ]
    },
    {
     "data": {
      "image/png": "[encoded data removed]",
      "text/plain": [
       "<Figure size 288x288 with 1 Axes>"
      ]
     },
     "metadata": {
      "needs_background": "light"
     },
     "output_type": "display_data"
    }
   ],
   "source": [
    "min_x = np.min(x)\n",
    "max_x = np.max(x)\n",
    "\n",
    "print(min_x)\n",
    "print(max_x)\n",
    "\n",
    "x_steps = np.arange(min_x, max_x, step = (max_x -min_x)/100 )\n",
    "\n",
    "\n",
    "y_line = []\n",
    "final_y = []\n",
    "\n",
    "\n",
    "for count, value in enumerate(x):\n",
    "\n",
    "    if count >=1:\n",
    "        y_line = x_steps[ (x_steps<=value) & (x_steps>=x[count-1])]\n",
    "        \n",
    "        for j_count, j_value in enumerate(y_line): \n",
    "            final_y.append( c[count-1,3] + c[count-1,2]* j_value**1 + c[count-1,1]* j_value**2 + c[count-1,0]* j_value**3  )\n",
    "\n",
    "\n",
    "\n",
    "#plt.plot(x_steps, final_y)\n",
    "\n",
    "\n",
    "fig, ax = plt.subplots(figsize=(4,4))\n",
    "plt.plot(x_steps, final_y)\n",
    "plt.plot(df['TIME_TO_MATURITY'], df['YIELD_RATE'], 'o', color = 'red')\n",
    "plt.show()\n",
    "\n"
   ]
  },
  {
   "cell_type": "markdown",
   "metadata": {},
   "source": [
    "### This was a fun one. \n",
    "\n",
    "### How can this method be applied to other problems in a variety of industries ? "
   ]
  },
  {
   "cell_type": "markdown",
   "metadata": {},
   "source": [
    "---\n",
    "## Problem 4\n",
    "\n",
    "The European Central Bank reports the Euro yield curve by providing the Nelson-Siegel parameters. Use the functional form of Nelson-Siegel model to estimate the parameters 𝛽0, 𝛽1, 𝛽2, 𝜏1 for the Treasury Coupon Bonds provided below. The Nelson-Siegel model assumes that:\n",
    "\n",
    "$$ R(0,t) = \\beta_0  + \\beta_1 (\\frac{1 - e^{-t\\lambda}}{t \\lambda}) + \\beta_2 (\\frac{1 - e^{-t \\lambda}}{t \\lambda} - e^{-t\\lambda}) $$\n",
    "\n",
    "\n",
    "Let \n",
    "\n",
    "$$ MSE = \\frac{1}{n} \\Sigma_{i=1}^n (Y_i - Y_{i hat})^2 $$"
   ]
  },
  {
   "cell_type": "code",
   "execution_count": 66,
   "metadata": {},
   "outputs": [
    {
     "data": {
      "text/html": [
       "<div>\n",
       "<style scoped>\n",
       "    .dataframe tbody tr th:only-of-type {\n",
       "        vertical-align: middle;\n",
       "    }\n",
       "\n",
       "    .dataframe tbody tr th {\n",
       "        vertical-align: top;\n",
       "    }\n",
       "\n",
       "    .dataframe thead th {\n",
       "        text-align: right;\n",
       "    }\n",
       "</style>\n",
       "<table border=\"1\" class=\"dataframe\">\n",
       "  <thead>\n",
       "    <tr style=\"text-align: right;\">\n",
       "      <th></th>\n",
       "      <th>Time to next payment</th>\n",
       "      <th>Payment frequency</th>\n",
       "      <th>Time to maturity</th>\n",
       "      <th>Coupon rate</th>\n",
       "      <th>Clean Price</th>\n",
       "      <th>YTM</th>\n",
       "    </tr>\n",
       "  </thead>\n",
       "  <tbody>\n",
       "    <tr>\n",
       "      <th>0</th>\n",
       "      <td>0.4356</td>\n",
       "      <td>2</td>\n",
       "      <td>0.4356</td>\n",
       "      <td>0.0088</td>\n",
       "      <td>100.30</td>\n",
       "      <td>0.010796</td>\n",
       "    </tr>\n",
       "    <tr>\n",
       "      <th>1</th>\n",
       "      <td>0.2644</td>\n",
       "      <td>2</td>\n",
       "      <td>0.7644</td>\n",
       "      <td>0.0088</td>\n",
       "      <td>100.48</td>\n",
       "      <td>0.010674</td>\n",
       "    </tr>\n",
       "    <tr>\n",
       "      <th>2</th>\n",
       "      <td>0.2658</td>\n",
       "      <td>2</td>\n",
       "      <td>1.2658</td>\n",
       "      <td>0.0075</td>\n",
       "      <td>100.50</td>\n",
       "      <td>0.009040</td>\n",
       "    </tr>\n",
       "    <tr>\n",
       "      <th>3</th>\n",
       "      <td>0.4342</td>\n",
       "      <td>2</td>\n",
       "      <td>1.9342</td>\n",
       "      <td>0.0063</td>\n",
       "      <td>100.31</td>\n",
       "      <td>0.007669</td>\n",
       "    </tr>\n",
       "    <tr>\n",
       "      <th>4</th>\n",
       "      <td>0.0192</td>\n",
       "      <td>2</td>\n",
       "      <td>2.0192</td>\n",
       "      <td>0.0038</td>\n",
       "      <td>99.78</td>\n",
       "      <td>0.004893</td>\n",
       "    </tr>\n",
       "  </tbody>\n",
       "</table>\n",
       "</div>"
      ],
      "text/plain": [
       "   Time to next payment  Payment frequency  Time to maturity  Coupon rate  \\\n",
       "0                0.4356                  2            0.4356       0.0088   \n",
       "1                0.2644                  2            0.7644       0.0088   \n",
       "2                0.2658                  2            1.2658       0.0075   \n",
       "3                0.4342                  2            1.9342       0.0063   \n",
       "4                0.0192                  2            2.0192       0.0038   \n",
       "\n",
       "   Clean Price       YTM  \n",
       "0       100.30  0.010796  \n",
       "1       100.48  0.010674  \n",
       "2       100.50  0.009040  \n",
       "3       100.31  0.007669  \n",
       "4        99.78  0.004893  "
      ]
     },
     "execution_count": 66,
     "metadata": {},
     "output_type": "execute_result"
    }
   ],
   "source": [
    "df = pd.read_excel('HW1_data_for_Problem_4_F22-Riley.xlsx')\n",
    "df.head(5)\n"
   ]
  },
  {
   "cell_type": "code",
   "execution_count": 92,
   "metadata": {},
   "outputs": [],
   "source": [
    "def rt(t, beta0, beta1, beta2, LAMBDA):\n",
    "     r_t = beta0 + beta1*(1-np.exp(-t*LAMBDA) / (t*LAMBDA) )  +  beta2*( (1-np.exp(-t*LAMBDA) / (t*LAMBDA) ) - np.exp(-t*LAMBDA) )\n",
    "     r_t = np.array(r_t)\n",
    "     return(r_t) \n",
    "\n",
    "\n",
    "def MSE(actual_values, estimate):\n",
    "     sub_set = actual_values - estimate\n",
    "     sub_set = np.power(sub_set,2)\n",
    "     return( np.mean(sub_set) )"
   ]
  },
  {
   "cell_type": "code",
   "execution_count": 94,
   "metadata": {},
   "outputs": [],
   "source": [
    "YEILD = np.array(df['YTM'])\n",
    "time = np.array(df['Time to maturity'])\n"
   ]
  },
  {
   "cell_type": "code",
   "execution_count": 175,
   "metadata": {},
   "outputs": [
    {
     "name": "stdout",
     "output_type": "stream",
     "text": [
      "TOTAL LOOPS = 54000\n"
     ]
    }
   ],
   "source": [
    "\n",
    "BETA0 = np.arange( .00001 , .01, .001)\n",
    "BETA1 = np.arange( .00001 , .01, .001)\n",
    "BETA2 = np.arange( .00001 , .01, .001)\n",
    "LAMBDA = np.arange(1 , 55, 1)\n",
    "\n",
    "l1 = len(BETA0)\n",
    "l2 = len(BETA1)\n",
    "l3 = len(BETA2)\n",
    "l4 = len(LAMBDA)\n",
    "\n",
    "print('TOTAL LOOPS = ' + str(l1*l2*l3*l4 ))\n"
   ]
  },
  {
   "cell_type": "code",
   "execution_count": 176,
   "metadata": {},
   "outputs": [],
   "source": [
    "b0 = []\n",
    "b1 = []\n",
    "b2 = []\n",
    "lam = []\n",
    "MSE_LIST = []\n",
    "\n",
    "\n",
    "for beta0 in BETA0:\n",
    "    for beta1 in BETA1:\n",
    "        for beta2 in BETA2:\n",
    "            for lambd_a in LAMBDA:\n",
    "\n",
    "                YC = rt(time , beta0, beta1, beta2, lambd_a)\n",
    "\n",
    "                b0.append(beta0)\n",
    "                b1.append(beta1)\n",
    "                b2.append(beta2)\n",
    "                lam.append(lambd_a)\n",
    "                MSE_LIST.append(MSE( YEILD , YC ))\n",
    "\n"
   ]
  },
  {
   "cell_type": "code",
   "execution_count": 177,
   "metadata": {},
   "outputs": [
    {
     "name": "stdout",
     "output_type": "stream",
     "text": [
      "54000\n",
      "54000\n",
      "54000\n",
      "54000\n",
      "54000\n"
     ]
    }
   ],
   "source": [
    "print(len(b0))\n",
    "print(len(b1))\n",
    "print(len(b2))\n",
    "print(len(lam))\n",
    "print(len(MSE_LIST))"
   ]
  },
  {
   "cell_type": "code",
   "execution_count": 178,
   "metadata": {},
   "outputs": [
    {
     "data": {
      "text/html": [
       "<div>\n",
       "<style scoped>\n",
       "    .dataframe tbody tr th:only-of-type {\n",
       "        vertical-align: middle;\n",
       "    }\n",
       "\n",
       "    .dataframe tbody tr th {\n",
       "        vertical-align: top;\n",
       "    }\n",
       "\n",
       "    .dataframe thead th {\n",
       "        text-align: right;\n",
       "    }\n",
       "</style>\n",
       "<table border=\"1\" class=\"dataframe\">\n",
       "  <thead>\n",
       "    <tr style=\"text-align: right;\">\n",
       "      <th></th>\n",
       "      <th>B0</th>\n",
       "      <th>B1</th>\n",
       "      <th>B2</th>\n",
       "      <th>LAMBDA</th>\n",
       "      <th>MSE</th>\n",
       "    </tr>\n",
       "  </thead>\n",
       "  <tbody>\n",
       "    <tr>\n",
       "      <th>53946</th>\n",
       "      <td>0.00901</td>\n",
       "      <td>0.00901</td>\n",
       "      <td>0.00901</td>\n",
       "      <td>1</td>\n",
       "      <td>0.000139</td>\n",
       "    </tr>\n",
       "    <tr>\n",
       "      <th>53892</th>\n",
       "      <td>0.00901</td>\n",
       "      <td>0.00901</td>\n",
       "      <td>0.00801</td>\n",
       "      <td>1</td>\n",
       "      <td>0.000146</td>\n",
       "    </tr>\n",
       "    <tr>\n",
       "      <th>53406</th>\n",
       "      <td>0.00901</td>\n",
       "      <td>0.00801</td>\n",
       "      <td>0.00901</td>\n",
       "      <td>1</td>\n",
       "      <td>0.000146</td>\n",
       "    </tr>\n",
       "    <tr>\n",
       "      <th>48546</th>\n",
       "      <td>0.00801</td>\n",
       "      <td>0.00901</td>\n",
       "      <td>0.00901</td>\n",
       "      <td>1</td>\n",
       "      <td>0.000147</td>\n",
       "    </tr>\n",
       "    <tr>\n",
       "      <th>53947</th>\n",
       "      <td>0.00901</td>\n",
       "      <td>0.00901</td>\n",
       "      <td>0.00901</td>\n",
       "      <td>2</td>\n",
       "      <td>0.000148</td>\n",
       "    </tr>\n",
       "    <tr>\n",
       "      <th>48547</th>\n",
       "      <td>0.00801</td>\n",
       "      <td>0.00901</td>\n",
       "      <td>0.00901</td>\n",
       "      <td>2</td>\n",
       "      <td>0.000153</td>\n",
       "    </tr>\n",
       "    <tr>\n",
       "      <th>53407</th>\n",
       "      <td>0.00901</td>\n",
       "      <td>0.00801</td>\n",
       "      <td>0.00901</td>\n",
       "      <td>2</td>\n",
       "      <td>0.000153</td>\n",
       "    </tr>\n",
       "    <tr>\n",
       "      <th>53893</th>\n",
       "      <td>0.00901</td>\n",
       "      <td>0.00901</td>\n",
       "      <td>0.00801</td>\n",
       "      <td>2</td>\n",
       "      <td>0.000154</td>\n",
       "    </tr>\n",
       "    <tr>\n",
       "      <th>53838</th>\n",
       "      <td>0.00901</td>\n",
       "      <td>0.00901</td>\n",
       "      <td>0.00701</td>\n",
       "      <td>1</td>\n",
       "      <td>0.000154</td>\n",
       "    </tr>\n",
       "    <tr>\n",
       "      <th>53352</th>\n",
       "      <td>0.00901</td>\n",
       "      <td>0.00801</td>\n",
       "      <td>0.00801</td>\n",
       "      <td>1</td>\n",
       "      <td>0.000154</td>\n",
       "    </tr>\n",
       "  </tbody>\n",
       "</table>\n",
       "</div>"
      ],
      "text/plain": [
       "            B0       B1       B2  LAMBDA       MSE\n",
       "53946  0.00901  0.00901  0.00901       1  0.000139\n",
       "53892  0.00901  0.00901  0.00801       1  0.000146\n",
       "53406  0.00901  0.00801  0.00901       1  0.000146\n",
       "48546  0.00801  0.00901  0.00901       1  0.000147\n",
       "53947  0.00901  0.00901  0.00901       2  0.000148\n",
       "48547  0.00801  0.00901  0.00901       2  0.000153\n",
       "53407  0.00901  0.00801  0.00901       2  0.000153\n",
       "53893  0.00901  0.00901  0.00801       2  0.000154\n",
       "53838  0.00901  0.00901  0.00701       1  0.000154\n",
       "53352  0.00901  0.00801  0.00801       1  0.000154"
      ]
     },
     "execution_count": 178,
     "metadata": {},
     "output_type": "execute_result"
    }
   ],
   "source": [
    "results_df = pd.DataFrame({ 'B0':b0, \n",
    "                             'B1':b1,\n",
    "                             'B2':b2,\n",
    "                             'LAMBDA':lam,\n",
    "                             'MSE':MSE_LIST  } )\n",
    "\n",
    "top_10_model = results_df.sort_values(by = 'MSE')\n",
    "top_10_model.head(10)"
   ]
  },
  {
   "cell_type": "code",
   "execution_count": 179,
   "metadata": {},
   "outputs": [
    {
     "data": {
      "text/plain": [
       "[<matplotlib.lines.Line2D at 0x137c5762940>]"
      ]
     },
     "execution_count": 179,
     "metadata": {},
     "output_type": "execute_result"
    },
    {
     "data": {
      "image/png": "[encoded data removed]",
      "text/plain": [
       "<Figure size 432x288 with 1 Axes>"
      ]
     },
     "metadata": {
      "needs_background": "light"
     },
     "output_type": "display_data"
    }
   ],
   "source": [
    "\n",
    "\n",
    "\n",
    "YC = rt(time , 0.00901,\t0.00901\t,0.00901, 1)\n",
    "\n",
    "plt.plot(df['Time to maturity'], df['YTM'], 'o')\n",
    "plt.plot(time, YC)\n",
    "\n"
   ]
  },
  {
   "cell_type": "code",
   "execution_count": null,
   "metadata": {},
   "outputs": [],
   "source": [
    "## The model above can be improved to fit a better model. \n",
    "\n",
    "# Some Ideas include an optimzation engine, or running more for loops! "
   ]
  },
  {
   "cell_type": "markdown",
   "metadata": {},
   "source": [
    "---\n",
    "\n",
    "### Thank you for offering some amazing problems to work on. \n",
    "\n",
    "### Any and all feedback is appreciated. Thank you!\n"
   ]
  }
 ],
 "metadata": {
  "kernelspec": {
   "display_name": "Python 3.9.9 64-bit",
   "language": "python",
   "name": "python3"
  },
  "language_info": {
   "codemirror_mode": {
    "name": "ipython",
    "version": 3
   },
   "file_extension": ".py",
   "mimetype": "text/x-python",
   "name": "python",
   "nbconvert_exporter": "python",
   "pygments_lexer": "ipython3",
   "version": "3.9.9"
  },
  "orig_nbformat": 4,
  "vscode": {
   "interpreter": {
    "hash": "716494ec1fb2b77a42eedaac63697f1c016542dbc22302930eed5cdcf725770f"
   }
  }
 },
 "nbformat": 4,
 "nbformat_minor": 2
}

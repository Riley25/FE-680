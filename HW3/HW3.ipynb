{
 "cells": [
  {
   "cell_type": "markdown",
   "metadata": {},
   "source": [
    "### FE - 680 Assignment 3\n",
    "\n",
    "Instructor: Dragos Bozdog (PhD)\n",
    "\n",
    "Completed By: Riley Heiman"
   ]
  },
  {
   "cell_type": "code",
   "execution_count": 1,
   "metadata": {},
   "outputs": [],
   "source": [
    "import os \n",
    "import matplotlib \n",
    "import matplotlib.pyplot as plt  \n",
    "import seaborn as sns \n",
    "\n",
    "import pandas as pd  \n",
    "import numpy as np   \n",
    "from scipy.stats import norm  "
   ]
  },
  {
   "cell_type": "code",
   "execution_count": 4,
   "metadata": {},
   "outputs": [
    {
     "name": "stdout",
     "output_type": "stream",
     "text": [
      "d:\\Documents\\Stevens\\FE-680\\HW3\n"
     ]
    }
   ],
   "source": [
    "print(os.getcwd())  "
   ]
  },
  {
   "cell_type": "markdown",
   "metadata": {},
   "source": [
    "---\n",
    "### Problem 1\n",
    "\n",
    "In the Hull–White model, $a  = 0.08$ and  $\\sigma = .02$  .Calculate the price of a one‐year **European call**\n",
    "\n",
    "option on a zero‐coupon bond that will mature in five years \n",
    "when the term structure is flat at $5%$, the\n",
    "principal of the bond is $\\$100$, and the strike price is $\\$70$.  \n",
    "\n",
    "\n",
    "Page 719 of Hull states:\n",
    "\n",
    "> Some of the models just presented allow options on zero-coupon bonds to be valued\n",
    "> analytically.  For the Vasicek, Ho–Lee, and Hull–White one-factor models, the price\n",
    "> at time zero of a call option that matures at time T on a zero-coupon bond maturing at time s is\n",
    "\n",
    "$$ L P(0,s) N(h) - K P(0, T) N(h - \\sigma_P) \\qquad (32.10) $$\n",
    "\n",
    "Where:\n",
    "- L = Principal of the bond\n",
    "- K = Strike Price\n",
    "- T = Maturity of option\n",
    "- s = Maturity of Zero Coupon Bond\n",
    "\n",
    "$$ h = \\frac{1}{\\sigma_P} ln ( \\frac{L P(0,s) }{ P(0,T) K} + \\frac{\\sigma_P}{ 2 } )   $$\n",
    "\n",
    "$$ \\sigma_P = \\frac{\\sigma}{a} [1 - e^{-a(s-T)}] \\sqrt{\\frac{1 - e^{-2aT}}{2a}} $$\n",
    "\n",
    "$$ P(0,T) = risk-free \\: \\: discount \\: \\: factor$$\n",
    "\n",
    "So\n",
    "$$ P(t, T) = e^{-r(T-t)} $$ \n",
    "\n",
    "$\\:$\n",
    "\n",
    "\n",
    "**Riley's thoughts:**  We know the Vasicek is a special case for Hull-White when $a(t)$, $b(t)$, and $c(t)$ are contants. What about Ho-Lee? Is Ho-Lee also a specical case of Vasicek? The textbook by Hull implied all three stocastic interest rate equations have the exact same analytical solution! (A little bit skeptical here.)\n",
    "\n",
    "$\\:$"
   ]
  },
  {
   "cell_type": "code",
   "execution_count": 3,
   "metadata": {},
   "outputs": [],
   "source": [
    "# INPUTS \n",
    "a = .08\n",
    "sigma = .02\n",
    "T = 1.0\n",
    "s = 5.0\n",
    "r = .05\n",
    "\n",
    "L = 100\n",
    "K = 70"
   ]
  },
  {
   "cell_type": "code",
   "execution_count": 4,
   "metadata": {},
   "outputs": [
    {
     "name": "stdout",
     "output_type": "stream",
     "text": [
      "P(0,T) = 0.951229424500714\n",
      "P(0,s) = 0.7788007830714049\n",
      "sigma_p = 0.06581336189047297\n",
      "h = 2.802182536818634\n",
      "-----------------------\n",
      "The price = $11.303\n"
     ]
    }
   ],
   "source": [
    "# Step 1: Find P(0,T), P(0,s)\n",
    "P0T = np.exp(-r*T)\n",
    "P0s = np.exp(-r*s)\n",
    "\n",
    "# Step 2: Find Sigma P\n",
    "sigma_p = (sigma / a) * ( 1 - np.exp( -a * (s-T) ) ) * ( np.sqrt( (1-np.exp( -2*a*T ) )/(2*a)  )  )\n",
    "\n",
    "# Step 3: Find h\n",
    "h = (1 / sigma_p) * np.log( ((L*P0s)/(K*P0T)) + (sigma_p / 2) )\n",
    "\n",
    "# Step 4: Find the price\n",
    "price = L*P0s*norm.cdf(h,loc=0, scale=1) - K*P0T*norm.cdf((h-sigma_p),loc=0, scale=1)\n",
    "\n",
    "print('P(0,T) = ' + str(P0T)) \n",
    "print('P(0,s) = ' + str(P0s)) \n",
    "print('sigma_p = ' + str(sigma_p)) \n",
    "print('h = ' + str(h))\n",
    "\n",
    "print('-----------------------')    \n",
    "\n",
    "print('The price = $' + str( np.round( price, decimals = 3) ))    "
   ]
  },
  {
   "cell_type": "markdown",
   "metadata": {},
   "source": [
    "---\n",
    "\n",
    "### Problem 2\n",
    "\n",
    "Risk‐free zero rates are flat at $5\\%$ in the U.S and flat at $9\\%$ in Australia \n",
    "(both rates are annually compounded). \n",
    "\n",
    "In a 4‐year differential swap Australian floating risk‐free rate is received and **8%** is paid\n",
    "with both being applied to a USD principal of **$10 million**. \n",
    "\n",
    "Payments are exchanged annually. The volatility of all 1‐year forward rates in Australia is estimated to be 30%, \n",
    "the volatility of the forward USD/AUD exchange rate (AUD per USD) is 20% for all maturities, \n",
    "and the correlation between the two is 0.3. What is the value of the swap?\n",
    "\n",
    "$ \\: $\n",
    "\n",
    "Riley's thoughts: This is just a swap, *not* a swap option. \n",
    "\n",
    "$\\:$\n",
    "\n",
    "$$ Swap \\: Value = floating \\: value - Fixed \\: value $$\n",
    "\n",
    "$$ V_i \\rho_i \\sigma_W \\sigma_V t \\qquad (34.3) $$"
   ]
  },
  {
   "cell_type": "code",
   "execution_count": 56,
   "metadata": {},
   "outputs": [
    {
     "name": "stdout",
     "output_type": "stream",
     "text": [
      "Payment Amount = $ 0.8\n",
      "Present Value (Fixed)= $ 2.84\n",
      "Present Value (Floating)= $ 3.1955\n",
      "Swap Value (millions) = Floating - Fixed = 0.35872832821715184\n"
     ]
    }
   ],
   "source": [
    "principal = 10\n",
    "diff_swap_rate = .08\n",
    "n_years = 4\n",
    "zero_rate = .05\n",
    "\n",
    "aus_rate = .09\n",
    "\n",
    "sigma_aus = .3\n",
    "sigma_usd = .20\n",
    "rho = .3\n",
    "\n",
    "\n",
    "payment = principal*diff_swap_rate\n",
    "tmp_sum = []\n",
    "\n",
    "for i in range(1, n_years+1):\n",
    "    tmp_sum.append(  payment / (1+zero_rate )**i  )\n",
    "\n",
    "\n",
    "fixed_present_value = np.sum(tmp_sum)\n",
    "\n",
    "\n",
    "# Find the quanto adjustment (34.3)\n",
    "# Forward rate not provided. Use zero rate \n",
    "\n",
    "def quanto_adj(t):\n",
    "    return( 1 + zero_rate * rho * sigma_aus * sigma_usd*t)\n",
    "\n",
    "payment2 = aus_rate * principal\n",
    "tmp_sum = []\n",
    "for i in range(1, n_years+1):\n",
    "    tmp_sum.append(  payment2*quanto_adj(i-1) / (1+zero_rate )**i  )\n",
    "\n",
    "floating_sum = np.sum(tmp_sum)\n",
    "\n",
    "print('Payment Amount = $ ' + str(payment))\n",
    "\n",
    "print('Present Value (Fixed)= $ '  + str( np.round( fixed_present_value, decimals = 2)) ) \n",
    "print('Present Value (Floating)= $ '  + str( np.round( floating_sum, decimals = 4)) ) \n",
    "\n",
    "print('Swap Value (millions) = Floating - Fixed = ' + str(floating_sum - fixed_present_value))"
   ]
  },
  {
   "cell_type": "markdown",
   "metadata": {},
   "source": [
    "---\n",
    "\n",
    "#### Problem 3\n",
    "\n",
    "Calculate the alternative duration measure for a 2-year bond with principal of $\\$ 100$ paying coupon semiannually at the rate of $\\$ 3 $ per year when Vasicek's model is used with $a = .13$ , $b = .012$ , $\\sigma = .01$ and $r = 1\\%$\n",
    "\n",
    "\n",
    "### Recall from Hull\n",
    "\n",
    "$$ P(t,T) = A(t,T) e^{-B(t,T)r(t)} \\qquad (31.6) $$\n",
    "\n",
    "$$  B(t, T) = \\frac{1 - e^{-a (T-t)}}{ a } \\qquad (31.7) $$\n",
    "\n",
    "$$ A(t, T) = exp [\\frac{ (B(t,T) - T +t) (a^2 b - \\frac{\\sigma^2}{2})}{a^2}  - \\frac{\\sigma^2 B(t,T)^2}{4a}] \\qquad (31.8) $$\n",
    "\n",
    "\n",
    "$$ \\hat{D} = \\Sigma_{i=1}^{n} \\frac{c_i P(t,T_i)}{Q} \\hat{D_i} $$"
   ]
  },
  {
   "cell_type": "code",
   "execution_count": 29,
   "metadata": {},
   "outputs": [],
   "source": [
    "a = .13\n",
    "b = .012\n",
    "sigma = .01\n",
    "r = .01\n",
    "t = 0\n",
    "T = 2\n",
    "c = 1.5\n",
    "\n",
    "# Bond Price\n",
    "Q = 103.95\n",
    "\n",
    "def B(a, t, T):\n",
    "    return(   ( 1-np.exp( -a*(T-t) ) ) / a  )\n",
    "\n",
    "def A(B, t, T, a, b, sigma):\n",
    "    return( np.exp(  (((b - T + t)*(a**2 *b - (sigma**2)/2))) /(a**2)  - ((sigma**2 * B**2)/(4*a)) ) )\n",
    "\n",
    "def P(A,B,r):\n",
    "    return( A * np.exp( - B * r ) )"
   ]
  },
  {
   "cell_type": "code",
   "execution_count": 44,
   "metadata": {},
   "outputs": [
    {
     "name": "stdout",
     "output_type": "stream",
     "text": [
      "P(t,T) = P(0,0.5) = 0.9907448504454588\n",
      "P(t,T) = P(0,1.0) = 0.9816903952951357\n",
      "P(t,T) = P(0,1.5) = 0.9729341268140901\n",
      "P(t,T) = P(0,2.0) = 0.9644645278840127\n",
      "\n",
      "(Alternative Duration) D-Hat = 1.72\n"
     ]
    }
   ],
   "source": [
    "\n",
    "B1  = B( a, t, .5 )\n",
    "B2 = B( a, t, 1 )\n",
    "B3 = B( a, t, 1.5 )\n",
    "B4 =B( a, t, 2.0 )\n",
    "\n",
    "A1 = A(B1, t, .5 , a, b, sigma)\n",
    "A2 = A(B2, t, 1  , a, b, sigma)\n",
    "A3 = A(B3, t, 1.5, a, b, sigma)\n",
    "A4 = A(B4, t, 2.0, a, b, sigma)\n",
    "\n",
    "P1 = P(A1,B1,r)\n",
    "P2 = P(A2,B2,r)\n",
    "P3 = P(A3,B3,r)\n",
    "P4 = P(A4,B4,r)\n",
    "\n",
    "print('P(t,T) = P(0,0.5) = ' + str(P1))\n",
    "print('P(t,T) = P(0,1.0) = ' + str(P2))\n",
    "print('P(t,T) = P(0,1.5) = ' + str(P3))\n",
    "print('P(t,T) = P(0,2.0) = ' + str(P4))\n",
    "\n",
    "# Find D HAT\n",
    "D_HAT = (c*P1*B1) + (c*P2*B2) + (c*P3*B3) + (c*P3*B3) + (101.5*P4*B4)\n",
    "D_HAT = D_HAT /Q\n",
    "\n",
    "print('')\n",
    "print('(Alternative Duration) D-Hat = ' + str( np.round(D_HAT , decimals = 2) ) )"
   ]
  }
 ],
 "metadata": {
  "kernelspec": {
   "display_name": "Python 3.9.9 64-bit",
   "language": "python",
   "name": "python3"
  },
  "language_info": {
   "codemirror_mode": {
    "name": "ipython",
    "version": 3
   },
   "file_extension": ".py",
   "mimetype": "text/x-python",
   "name": "python",
   "nbconvert_exporter": "python",
   "pygments_lexer": "ipython3",
   "version": "3.9.9"
  },
  "orig_nbformat": 4,
  "vscode": {
   "interpreter": {
    "hash": "716494ec1fb2b77a42eedaac63697f1c016542dbc22302930eed5cdcf725770f"
   }
  }
 },
 "nbformat": 4,
 "nbformat_minor": 2
}

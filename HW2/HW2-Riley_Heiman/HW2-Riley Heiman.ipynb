{
 "cells": [
  {
   "cell_type": "markdown",
   "metadata": {},
   "source": [
    "### FE - 680 Assignment 2\n",
    "\n",
    "Instructor: Dragos Bozdog (PhD)\n",
    "\n",
    "Completed By: Riley Heiman\n"
   ]
  },
  {
   "cell_type": "code",
   "execution_count": 1,
   "metadata": {},
   "outputs": [],
   "source": [
    "import os\n",
    "import matplotlib\n",
    "import matplotlib.pyplot as plt\n",
    "import seaborn as sns\n",
    "\n",
    "import pandas as pd\n",
    "import numpy as np   \n",
    "from scipy.stats import norm "
   ]
  },
  {
   "cell_type": "code",
   "execution_count": 2,
   "metadata": {},
   "outputs": [
    {
     "name": "stdout",
     "output_type": "stream",
     "text": [
      "d:\\Documents\\Stevens\\FE-680\\HW2\n"
     ]
    }
   ],
   "source": [
    "print(os.getcwd())  "
   ]
  },
  {
   "cell_type": "markdown",
   "metadata": {},
   "source": [
    "### Problem 1\n",
    "\n",
    "What is the value of a European swap option that gives the holder the right to enter into a 6-year annual-pay swap in 3 years where a fixed rate of 3.8% is paid and LIBOR is received? \n",
    "\n",
    "The swap principal is $5 million. Assume that the yield curve is flat at 3.7% per annum with annual compounding and the volatility of the swap rate is 25%\n",
    "\n",
    "\n",
    "\n",
    "Recall the following: (Page 685, 708 in Hull)\n",
    "\n",
    "$$LA[s_0 N(d_1) - s_k N(d_2)]$$\n",
    "\n",
    "Where: \n",
    "\n",
    "- $ A = \\frac{1}{m} \\sum_{i = 1}^{mn} P(0,T_i)$\n",
    "\n",
    "    - m = number of payments per year \n",
    "\n",
    "    - $P(0,T_i) = $ Discount factor for the mn payoffs \n",
    "\n",
    "- $ L =$ notional principal\n",
    "\n",
    "- $s_k = $ \"fixed rate\"\n",
    "\n",
    "- $s_0 = $ \"forward\" swap rate at time zero. by eq (28.23)\n",
    "\n",
    "- $d_1  = \\frac{ln(\\frac{s_0}{s_K}) + \\sigma^2 \\frac{T}{2}}{\\sigma \\sqrt{T}}$\n",
    "\n",
    "- $d_2 = d_1 - \\sigma \\sqrt{T}$"
   ]
  },
  {
   "cell_type": "code",
   "execution_count": 14,
   "metadata": {},
   "outputs": [
    {
     "name": "stdout",
     "output_type": "stream",
     "text": [
      "Time Cadence = annual\n",
      "[3. 4. 5. 6. 7. 8. 9.]\n",
      " \n",
      "The Price = 86946.92\n"
     ]
    }
   ],
   "source": [
    "# These are inputs into the model! \n",
    "\n",
    "time_cadence = 'annual'\n",
    "print(\"Time Cadence = \" + time_cadence )\n",
    "\n",
    "\n",
    "L = 5000000\n",
    "sk = .038   # fixed rate\n",
    "interest_rate = .037\n",
    "T = 3\n",
    "sigma = .25\n",
    "\n",
    "\n",
    "if time_cadence == 'semi-annual':\n",
    "    tc = 2\n",
    "\n",
    "elif time_cadence == 'annual':\n",
    "    tc = 1\n",
    "\n",
    "\n",
    "time_i = np.arange(3.0, 9.5, 1/tc)\n",
    "print(time_i)\n",
    "\n",
    "A = .5*np.sum( np.exp(- interest_rate*time_i ) )\n",
    "\n",
    "so = tc*(np.exp((interest_rate/tc)) -1)  # convert continous interest to semi-annual\n",
    "\n",
    "d1 = (np.log(so/sk) + sigma**2 * T/tc) / ( sigma * np.sqrt(T) )\n",
    "#print(d1)\n",
    "#.41428\n",
    "\n",
    "d2 = d1 - sigma*np.sqrt(T)\n",
    "#print(d2)\n",
    "#-.0187\n",
    "\n",
    "price = L*A*(so * norm.cdf(d1, loc=0, scale=1 )  - sk * norm.cdf(d2, loc=0, scale=1 ) )\n",
    "\n",
    "price = np.round(price, decimals = 2)\n",
    "\n",
    "print(' ')\n",
    "print(\"The Price = \" + str(price))\n",
    "\n"
   ]
  },
  {
   "cell_type": "markdown",
   "metadata": {},
   "source": [
    "---\n",
    "\n",
    "### Problem 2\n",
    "\n",
    "Find the value of a 4-year collar that guarantees that the min and max interest rates on a LIBOR-based loan (with quarterly resets) are 3.0% and 4.0% respectively. The LIBOR zero curve (continuously compounded) is currently flat at 3.6%. Use a flat volatility of 22%. Assume that the principal is $5 million.\n",
    "\n",
    "\n",
    "$\\:$\n",
    "\n",
    "A collar\n",
    "- long 1 put option and short 1 call option\n",
    "\n",
    "- Buy 1 'floorlet' and sell 1 'caplet'\n",
    "           \n",
    "\n",
    "$$Collar \\: Price = -1*(floorlet \\: Price) + (caplet \\: price)$$\n",
    "\n",
    "\n",
    "#### Caplet\n",
    "\n",
    "$$ L\\delta_k P(0, t_{k+1})[F_k N(d_1) - R_k N(d_2)] \\qquad (29.7) $$\n",
    "\n",
    "Where: \n",
    "- $d_1 = \\frac{ln(\\frac{F_k}{R_k}) + \\frac{\\sigma^2_k t_k}{2} }{\\sigma_k \\sqrt{t_k}}$\n",
    "\n",
    "- $d_2 = d_1 - \\sigma_k \\sqrt{t_k} $\n",
    "\n",
    "- $F_k =$ Forward interest Rate\n",
    "\n",
    "- $R_k = $ interest rate\n",
    "\n",
    "- $\\sigma_k = $ volatility of this forward interest rate\n",
    "\n",
    "- $P(0, t_{k+1}) = $ risk-free discount factor\n",
    "\n",
    "- $\\delta_k = t_{k+1} - t_k$\n",
    "\n",
    "#### Floorlet\n",
    "\n",
    "$$ L\\delta_k P(0, t_{k+1})[R_k N(-d_2) - F_k N(-d_1)] \\qquad (29.8) $$"
   ]
  },
  {
   "cell_type": "code",
   "execution_count": 4,
   "metadata": {},
   "outputs": [],
   "source": [
    "\n",
    "def CAPLET(Fk, L, R_k, t_k, t_k1, sigma_k, r ): \n",
    "    delta_k = t_k1 - t_k\n",
    "\n",
    "    P_0_tk1 = np.exp(-r*t_k1)\n",
    "\n",
    "    d1 = (np.log( Fk / R_k ) + (sigma_k**2 * t_k)/2) / sigma_k * np.sqrt(t_k)\n",
    "\n",
    "    d2 = d1 - sigma_k * np.sqrt(t_k)\n",
    "\n",
    "    caplet = (L * delta_k * P_0_tk1) * (Fk * norm.cdf(d1 , loc = 0 , scale = 1 ) - R_k * norm.cdf(d2 , loc = 0 , scale = 1 ))\n",
    "    return(caplet)\n",
    "\n"
   ]
  },
  {
   "cell_type": "code",
   "execution_count": 5,
   "metadata": {},
   "outputs": [],
   "source": [
    "\n",
    "def FLOORLET(Fk, L, R_k, t_k, t_k1, sigma_k, r ): \n",
    "    delta_k = t_k1 - t_k\n",
    "\n",
    "    P_0_tk1 = np.exp(-r*t_k1)\n",
    "\n",
    "    d1 = (np.log( Fk / R_k ) + (sigma_k**2 * t_k)/2) / sigma_k * np.sqrt(t_k)\n",
    "\n",
    "    d2 = d1 - sigma_k * np.sqrt(t_k)\n",
    "\n",
    "    floorlet = (L * delta_k * P_0_tk1) * (R_k * norm.cdf(-d2 , loc = 0 , scale = 1 ) - Fk * norm.cdf(-d1 , loc = 0 , scale = 1 ))\n",
    "    return(floorlet)\n"
   ]
  },
  {
   "cell_type": "code",
   "execution_count": 6,
   "metadata": {},
   "outputs": [
    {
     "data": {
      "text/plain": [
       "51953.264883552285"
      ]
     },
     "execution_count": 6,
     "metadata": {},
     "output_type": "execute_result"
    }
   ],
   "source": [
    "\n",
    "\n",
    "Fk = .036\n",
    "L = 5000000\n",
    "R_k = .03 # for cap?   4% for floor?\n",
    "t_k = 0\n",
    "t_k1 = 4\n",
    "sigma_k = .22\n",
    "r = .036\n",
    "\n",
    "\n",
    "caplet_price = CAPLET(Fk, L, R_k, t_k, t_k1, sigma_k, r )\n",
    "caplet_price\n",
    "\n"
   ]
  },
  {
   "cell_type": "code",
   "execution_count": 7,
   "metadata": {},
   "outputs": [
    {
     "data": {
      "text/plain": [
       "34635.50992236823"
      ]
     },
     "execution_count": 7,
     "metadata": {},
     "output_type": "execute_result"
    }
   ],
   "source": [
    "R_k = .04\n",
    "\n",
    "floorlet_price = FLOORLET(Fk, L, R_k, t_k, t_k1, sigma_k , r )\n",
    "floorlet_price \n"
   ]
  },
  {
   "cell_type": "code",
   "execution_count": 8,
   "metadata": {},
   "outputs": [
    {
     "name": "stdout",
     "output_type": "stream",
     "text": [
      "The price of collar = $17317.75\n"
     ]
    }
   ],
   "source": [
    "collar = -1*floorlet_price + caplet_price\n",
    "\n",
    "print('The price of collar = $'  + str(  round (collar,2)))  "
   ]
  },
  {
   "cell_type": "markdown",
   "metadata": {},
   "source": [
    "---\n",
    "\n",
    "### Problem 3\n",
    "\n",
    "The payoff from a derivative will occur in 7 years. It will equal the average of the one-year risk-free interest rates observed at times 1, 2, 3, 4, 5, 6, and 7 years applied to a principal of $5 mill. The risk-free yield curve is flat at 5% with annual compounding and the volatilities of all rates are 22%. Assume perfect correlation between all rates. What is the value of the derivative?\n",
    "\n",
    "Timing adjustment:\n",
    "\n",
    "$$E_{T^*} = E_T (V_T)exp [\\frac{\\rho_{VR} \\sigma_V \\sigma_R R_0 (T^* - T)}{1+ \\frac{R_0}{m}}T] \\qquad (30.4)$$\n"
   ]
  },
  {
   "cell_type": "code",
   "execution_count": 9,
   "metadata": {},
   "outputs": [
    {
     "name": "stdout",
     "output_type": "stream",
     "text": [
      "757.0105997309339\n"
     ]
    }
   ],
   "source": [
    "# This code was used to write the function below! \n",
    "rho = .4\n",
    "sigma_v = .20\n",
    "sigma_r = .18\n",
    "\n",
    "T2 = 6\n",
    "T1 = 5\n",
    "delta_t = T2-T1\n",
    "R_0 = .08\n",
    "\n",
    "ET_VT = 1200\n",
    "\n",
    "\n",
    "value = ET_VT * np.exp( (rho * sigma_v * sigma_r * R_0 *delta_t) / ( 1 + (R_0/1) ) )\n",
    "\n",
    "value = value / ( 1 + R_0)**T2\n",
    "\n",
    "print( value )\n",
    "\n"
   ]
  },
  {
   "cell_type": "code",
   "execution_count": 10,
   "metadata": {},
   "outputs": [],
   "source": [
    "def PAYOFF_TIME_ADJUST(rho, sigma_v, sigma_r, T1, T2, R_0, ET_VT):\n",
    "    VALUES = []\n",
    "\n",
    "    time_intervals = np.arange(T1, T2, 1)\n",
    "    l = len(time_intervals)\n",
    "\n",
    "    for i in range(1, l):\n",
    "        t_i = time_intervals[i]\n",
    "        t_i_1 = time_intervals[i-1]\n",
    "        delta_t = t_i - t_i_1\n",
    "\n",
    "        value = np.exp( (rho * sigma_v * sigma_r * R_0 *delta_t) / ( 1 + (R_0/1) ) )\n",
    "        VALUES.append(value)\n",
    "\n",
    "    \n",
    "    value = ET_VT*np.mean(VALUES) / ( 1 + R_0)**T2\n",
    "    return(value)\n"
   ]
  },
  {
   "cell_type": "code",
   "execution_count": 11,
   "metadata": {},
   "outputs": [
    {
     "name": "stdout",
     "output_type": "stream",
     "text": [
      "The Price = $3561605.85\n"
     ]
    }
   ],
   "source": [
    "\n",
    "\n",
    "rho = 1.0\n",
    "sigma_v = .22\n",
    "sigma_r = .22\n",
    "\n",
    "T2 = 7\n",
    "T1 = 1\n",
    "\n",
    "R_0 = .05\n",
    "\n",
    "ET_VT = 5000000\n",
    "\n",
    "price = PAYOFF_TIME_ADJUST(rho, sigma_v, sigma_r, T1, T2, R_0, ET_VT)\n",
    "\n",
    "print(\"The Price = $\" + str( round( price , 2 ) ) )  \n"
   ]
  },
  {
   "cell_type": "markdown",
   "metadata": {},
   "source": [
    "---\n",
    "\n",
    "### Problem 4\n",
    "\n",
    "Assume that the risk free-rate yield curve is flat at 5% (with continuous compounding). The payoff from a derivative occurs in 5 years. It is equal to the 6-year rate minus the 2-year rate at this time, applied to a principal of $1 million with both rates being continuously compounded. Calculate the value of the derivative. Assume that the volatility for all rates is 30%. \n",
    "\n",
    "$\\:$\n",
    "\n",
    "\n",
    "**Feedback from Dr. Bozdog:** (Thank you!)\n",
    "\n",
    "*The payoff of the derivative is equal to 6-year rate minus 2-year rate. So, if the forward bond price equals the expected bond price, then what is the expected yield on the bond with maturity in 6 years and in 2 years?*\n",
    "\n",
    "$\\:$ \n",
    "\n",
    "#####  Convexity Adjustment\n",
    "\n",
    "\n",
    "$$ E_T (y_T) = y_0 - \\frac{1}{2} y_0^2 \\sigma_y^2 T \\frac{G^{''} (y_0)}{G^{'} (y_0)} \\qquad (30.1) $$\n",
    "\n",
    "The value of the intrument is therefore: \n",
    "\n",
    "$$ P(0,T) L \\tau [R_0 + \\frac{R_0^2 \\sigma_R^2 \\tau T}{1+ R_0 \\tau} ] $$\n",
    "\n",
    "Where: \n",
    "\n",
    "- $P(0,T) = \\frac{1}{(1+R_0)^T}$"
   ]
  },
  {
   "cell_type": "code",
   "execution_count": 12,
   "metadata": {},
   "outputs": [
    {
     "name": "stdout",
     "output_type": "stream",
     "text": [
      "The value = $186848.07\n"
     ]
    }
   ],
   "source": [
    "L = 1000000\n",
    "R0 = .05\n",
    "sigma = .30\n",
    "T = 2.0\n",
    "T_star = 6.0\n",
    "\n",
    "tau = T_star - T\n",
    "\n",
    "P_0_T = 1.0 / ((1+R0)**T)   # is this a discount factor? \n",
    "\n",
    "price = P_0_T * L * tau * (  R0 + ( (R0**2 * sigma**2 * tau * T) / (1+ R0*tau)  )  )\n",
    "\n",
    "print(\"The value = $\" + str( round( price , 2 )  )  )\n"
   ]
  },
  {
   "cell_type": "markdown",
   "metadata": {},
   "source": [
    "--- \n",
    "\n",
    "### Final Remarks\n",
    "\n",
    "\n",
    "I sincerely appreciate the opportunity to study fixed-income derivatives! I’m leaving some final thoughts on the chapter below for personal use. Feedback is always welcomed if time permits.  \n",
    "\n",
    "Page 693 of Hull states: \n",
    "\n",
    "> The models presented in Chapter 29 for bond options are all examples of the “two-step” procedure. \n",
    ">\n",
    "> This raises the issue is it always correct to value European style derivatives by using the “two-step” procedure. **The answer is no!**\n",
    "> \n",
    "> For **nonstandard interest rate** derivatives, it is sometimes necessary to modify the two-step procedure so that an **adjustment** is made to the forward value of the variable in the first step.\n",
    "\n",
    "$\\:$\n",
    "\n",
    "#### Questions to think about\n",
    "- What does Hull mean by two step?\n",
    "- How is “nonstandard interest rate” defined?\n",
    "    - Is LIBOR nonstandard? \n",
    "    - What about stochastic interest rate models?\n",
    "\n",
    "There are many models! \n",
    "\n",
    "One Factor Modles\n",
    "\n",
    "-\tHull-White\n",
    "-\tHo-Lee\n",
    "-\tCIR\n",
    "-\tRendleman-Bartter model\n",
    "-\tMertons model\n",
    "-\tBlack-Derman-Toy\n",
    "-\tBlack-Karasinski\n",
    "-\tKalotay-Williams-Fabozzi model\n",
    "\n",
    "\n",
    "Two Factor Models\n",
    "-\tLongstaff-Schwartz model\n",
    "-\tChen model\n",
    "\n",
    "\n",
    "Time may permit us to only master a few models. Based upon the 80-20 rule, which models are used most frequently? For example, when pricing American stock options, binomial tree, and monte carlo are used frequently even though more complex models exist.\n",
    "\n",
    "\n",
    "--- \n",
    "\n",
    "\n",
    "### Reference\n",
    "\n",
    "The equations listed in the notebook come from Hull\n",
    "\n",
    "[1] John Hull. Options, Futures, and Other Derivatives. 11th Edition. Pearson. (ISBN:\n",
    "978-0136939979)\n"
   ]
  },
  {
   "cell_type": "markdown",
   "metadata": {},
   "source": []
  }
 ],
 "metadata": {
  "kernelspec": {
   "display_name": "Python 3 (ipykernel)",
   "language": "python",
   "name": "python3"
  },
  "language_info": {
   "codemirror_mode": {
    "name": "ipython",
    "version": 3
   },
   "file_extension": ".py",
   "mimetype": "text/x-python",
   "name": "python",
   "nbconvert_exporter": "python",
   "pygments_lexer": "ipython3",
   "version": "3.9.9"
  },
  "vscode": {
   "interpreter": {
    "hash": "716494ec1fb2b77a42eedaac63697f1c016542dbc22302930eed5cdcf725770f"
   }
  }
 },
 "nbformat": 4,
 "nbformat_minor": 4
}
